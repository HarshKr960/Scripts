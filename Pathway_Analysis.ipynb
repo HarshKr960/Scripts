{
  "cells": [
    {
      "cell_type": "markdown",
      "metadata": {
        "id": "-HRo80dSygXQ"
      },
      "source": [
        "## **Environment Setup and Data Input**"
      ]
    },
    {
      "cell_type": "code",
      "execution_count": null,
      "metadata": {
        "colab": {
          "base_uri": "https://localhost:8080/"
        },
        "id": "yP7qqHSfo00h",
        "outputId": "748953f8-fe15-4da4-9d53-bc57798d6868"
      },
      "outputs": [
        {
          "output_type": "stream",
          "name": "stderr",
          "text": [
            "Installing package into ‘/usr/local/lib/R/site-library’\n",
            "(as ‘lib’ is unspecified)\n",
            "\n"
          ]
        }
      ],
      "source": [
        "install.packages(\"BiocManager\")"
      ]
    },
    {
      "cell_type": "code",
      "execution_count": null,
      "metadata": {
        "colab": {
          "base_uri": "https://localhost:8080/"
        },
        "id": "p38bWO_AoJEW",
        "outputId": "5fdeea46-281f-4638-ad94-d54fa3afcd85"
      },
      "outputs": [
        {
          "output_type": "stream",
          "name": "stderr",
          "text": [
            "'getOption(\"repos\")' replaces Bioconductor standard repositories, see\n",
            "'help(\"repositories\", package = \"BiocManager\")' for details.\n",
            "Replacement repositories:\n",
            "    CRAN: https://cran.rstudio.com\n",
            "\n",
            "Bioconductor version 3.20 (BiocManager 1.30.25), R 4.4.2 (2024-10-31)\n",
            "\n",
            "Warning message:\n",
            "“package(s) not installed when version(s) same as or greater than current; use\n",
            "  `force = TRUE` to re-install: 'gage'”\n",
            "Old packages: 'bit'\n",
            "\n",
            "'getOption(\"repos\")' replaces Bioconductor standard repositories, see\n",
            "'help(\"repositories\", package = \"BiocManager\")' for details.\n",
            "Replacement repositories:\n",
            "    CRAN: https://cran.rstudio.com\n",
            "\n",
            "Bioconductor version 3.20 (BiocManager 1.30.25), R 4.4.2 (2024-10-31)\n",
            "\n",
            "Warning message:\n",
            "“package(s) not installed when version(s) same as or greater than current; use\n",
            "  `force = TRUE` to re-install: 'gageData'”\n",
            "Old packages: 'bit'\n",
            "\n",
            "'getOption(\"repos\")' replaces Bioconductor standard repositories, see\n",
            "'help(\"repositories\", package = \"BiocManager\")' for details.\n",
            "Replacement repositories:\n",
            "    CRAN: https://cran.rstudio.com\n",
            "\n",
            "Bioconductor version 3.20 (BiocManager 1.30.25), R 4.4.2 (2024-10-31)\n",
            "\n",
            "Warning message:\n",
            "“package(s) not installed when version(s) same as or greater than current; use\n",
            "  `force = TRUE` to re-install: 'pathview'”\n",
            "Old packages: 'bit'\n",
            "\n",
            "'getOption(\"repos\")' replaces Bioconductor standard repositories, see\n",
            "'help(\"repositories\", package = \"BiocManager\")' for details.\n",
            "Replacement repositories:\n",
            "    CRAN: https://cran.rstudio.com\n",
            "\n",
            "Bioconductor version 3.20 (BiocManager 1.30.25), R 4.4.2 (2024-10-31)\n",
            "\n",
            "Warning message:\n",
            "“package(s) not installed when version(s) same as or greater than current; use\n",
            "  `force = TRUE` to re-install: 'clusterProfiler'”\n",
            "Old packages: 'bit'\n",
            "\n"
          ]
        }
      ],
      "source": [
        "BiocManager::install(\"gage\")\n",
        "BiocManager::install(\"gageData\")\n",
        "BiocManager::install(\"pathview\")\n",
        "BiocManager::install(\"clusterProfiler\")"
      ]
    },
    {
      "cell_type": "code",
      "execution_count": null,
      "metadata": {
        "id": "CiKpwb3Vb6Ea"
      },
      "outputs": [],
      "source": [
        "#Load libraries\n",
        "library(gage)\n",
        "library(gageData)\n",
        "library(pathview)\n",
        "library(clusterProfiler)"
      ]
    },
    {
      "cell_type": "code",
      "execution_count": null,
      "metadata": {
        "colab": {
          "base_uri": "https://localhost:8080/"
        },
        "id": "CQ0VcbOlpfL4",
        "outputId": "6e452e94-4918-48d9-979f-7123e74759e9"
      },
      "outputs": [
        {
          "output_type": "stream",
          "name": "stderr",
          "text": [
            "'getOption(\"repos\")' replaces Bioconductor standard repositories, see\n",
            "'help(\"repositories\", package = \"BiocManager\")' for details.\n",
            "Replacement repositories:\n",
            "    CRAN: https://cran.rstudio.com\n",
            "\n",
            "Bioconductor version 3.20 (BiocManager 1.30.25), R 4.4.2 (2024-10-31)\n",
            "\n",
            "Warning message:\n",
            "“package(s) not installed when version(s) same as or greater than current; use\n",
            "  `force = TRUE` to re-install: 'org.Hs.eg.db'”\n",
            "Old packages: 'bit'\n",
            "\n"
          ]
        }
      ],
      "source": [
        "# Set the desired organism\n",
        "organism = \"org.Hs.eg.db\"\n",
        "BiocManager::install(organism, character.only = TRUE)\n",
        "library(organism, character.only = TRUE)\n",
        "\n",
        "# Load DESeq2 results file containing ENSEMBL IDs\n",
        "result <- read.table(\"/content/DESeq2_Result (3).txt\", sep=\"\\t\", header = TRUE, row.names=1)"
      ]
    },
    {
      "cell_type": "markdown",
      "metadata": {
        "id": "-7J7A1Owyltc"
      },
      "source": [
        "## **Data Preparation and Gene ID Mapping**"
      ]
    },
    {
      "cell_type": "code",
      "execution_count": null,
      "metadata": {
        "colab": {
          "base_uri": "https://localhost:8080/",
          "height": 286
        },
        "id": "vubbRQZCpk1A",
        "outputId": "4f390a1a-e889-4d99-8e3f-0f28af156e17"
      },
      "outputs": [
        {
          "output_type": "display_data",
          "data": {
            "text/html": [
              "<table class=\"dataframe\">\n",
              "<caption>A data.frame: 6 × 6</caption>\n",
              "<thead>\n",
              "\t<tr><th></th><th scope=col>baseMean</th><th scope=col>log2FoldChange</th><th scope=col>lfcSE</th><th scope=col>stat</th><th scope=col>pvalue</th><th scope=col>padj</th></tr>\n",
              "\t<tr><th></th><th scope=col>&lt;dbl&gt;</th><th scope=col>&lt;dbl&gt;</th><th scope=col>&lt;dbl&gt;</th><th scope=col>&lt;dbl&gt;</th><th scope=col>&lt;dbl&gt;</th><th scope=col>&lt;dbl&gt;</th></tr>\n",
              "</thead>\n",
              "<tbody>\n",
              "\t<tr><th scope=row>ENSG00000290825</th><td>  0.3706110</td><td>-0.2230679</td><td>1.3558050</td><td>-0.1645280</td><td>8.693155e-01</td><td>          NA</td></tr>\n",
              "\t<tr><th scope=row>ENSG00000227232</th><td>570.5388616</td><td>-0.6921837</td><td>0.1529257</td><td>-4.5262745</td><td>6.003260e-06</td><td>4.982777e-05</td></tr>\n",
              "\t<tr><th scope=row>ENSG00000278267</th><td> 16.3868742</td><td>-0.6351872</td><td>0.3223845</td><td>-1.9702786</td><td>4.880645e-02</td><td>1.156835e-01</td></tr>\n",
              "\t<tr><th scope=row>ENSG00000243485</th><td>  0.9152847</td><td>-1.3016060</td><td>0.8976245</td><td>-1.4500563</td><td>1.470428e-01</td><td>2.738303e-01</td></tr>\n",
              "\t<tr><th scope=row>ENSG00000237613</th><td>  0.3996788</td><td>-1.6900154</td><td>1.3112132</td><td>-1.2888944</td><td>1.974348e-01</td><td>          NA</td></tr>\n",
              "\t<tr><th scope=row>ENSG00000238009</th><td>  6.1618180</td><td>-0.2373482</td><td>0.3293324</td><td>-0.7206949</td><td>4.710973e-01</td><td>6.315650e-01</td></tr>\n",
              "</tbody>\n",
              "</table>\n"
            ],
            "text/markdown": "\nA data.frame: 6 × 6\n\n| <!--/--> | baseMean &lt;dbl&gt; | log2FoldChange &lt;dbl&gt; | lfcSE &lt;dbl&gt; | stat &lt;dbl&gt; | pvalue &lt;dbl&gt; | padj &lt;dbl&gt; |\n|---|---|---|---|---|---|---|\n| ENSG00000290825 |   0.3706110 | -0.2230679 | 1.3558050 | -0.1645280 | 8.693155e-01 |           NA |\n| ENSG00000227232 | 570.5388616 | -0.6921837 | 0.1529257 | -4.5262745 | 6.003260e-06 | 4.982777e-05 |\n| ENSG00000278267 |  16.3868742 | -0.6351872 | 0.3223845 | -1.9702786 | 4.880645e-02 | 1.156835e-01 |\n| ENSG00000243485 |   0.9152847 | -1.3016060 | 0.8976245 | -1.4500563 | 1.470428e-01 | 2.738303e-01 |\n| ENSG00000237613 |   0.3996788 | -1.6900154 | 1.3112132 | -1.2888944 | 1.974348e-01 |           NA |\n| ENSG00000238009 |   6.1618180 | -0.2373482 | 0.3293324 | -0.7206949 | 4.710973e-01 | 6.315650e-01 |\n\n",
            "text/latex": "A data.frame: 6 × 6\n\\begin{tabular}{r|llllll}\n  & baseMean & log2FoldChange & lfcSE & stat & pvalue & padj\\\\\n  & <dbl> & <dbl> & <dbl> & <dbl> & <dbl> & <dbl>\\\\\n\\hline\n\tENSG00000290825 &   0.3706110 & -0.2230679 & 1.3558050 & -0.1645280 & 8.693155e-01 &           NA\\\\\n\tENSG00000227232 & 570.5388616 & -0.6921837 & 0.1529257 & -4.5262745 & 6.003260e-06 & 4.982777e-05\\\\\n\tENSG00000278267 &  16.3868742 & -0.6351872 & 0.3223845 & -1.9702786 & 4.880645e-02 & 1.156835e-01\\\\\n\tENSG00000243485 &   0.9152847 & -1.3016060 & 0.8976245 & -1.4500563 & 1.470428e-01 & 2.738303e-01\\\\\n\tENSG00000237613 &   0.3996788 & -1.6900154 & 1.3112132 & -1.2888944 & 1.974348e-01 &           NA\\\\\n\tENSG00000238009 &   6.1618180 & -0.2373482 & 0.3293324 & -0.7206949 & 4.710973e-01 & 6.315650e-01\\\\\n\\end{tabular}\n",
            "text/plain": [
              "                baseMean    log2FoldChange lfcSE     stat       pvalue      \n",
              "ENSG00000290825   0.3706110 -0.2230679     1.3558050 -0.1645280 8.693155e-01\n",
              "ENSG00000227232 570.5388616 -0.6921837     0.1529257 -4.5262745 6.003260e-06\n",
              "ENSG00000278267  16.3868742 -0.6351872     0.3223845 -1.9702786 4.880645e-02\n",
              "ENSG00000243485   0.9152847 -1.3016060     0.8976245 -1.4500563 1.470428e-01\n",
              "ENSG00000237613   0.3996788 -1.6900154     1.3112132 -1.2888944 1.974348e-01\n",
              "ENSG00000238009   6.1618180 -0.2373482     0.3293324 -0.7206949 4.710973e-01\n",
              "                padj        \n",
              "ENSG00000290825           NA\n",
              "ENSG00000227232 4.982777e-05\n",
              "ENSG00000278267 1.156835e-01\n",
              "ENSG00000243485 2.738303e-01\n",
              "ENSG00000237613           NA\n",
              "ENSG00000238009 6.315650e-01"
            ]
          },
          "metadata": {}
        }
      ],
      "source": [
        "# Check top 10 lines in results\n",
        "head(result)"
      ]
    },
    {
      "cell_type": "code",
      "execution_count": null,
      "metadata": {
        "id": "dklylo6qpmo7"
      },
      "outputs": [],
      "source": [
        "# List of KEGG pathways and significant pathways for Homo sapiens\n",
        "data(kegg.sets.hs)\n",
        "data(sigmet.idx.hs)\n",
        "\n",
        "# Filter important KEGG pathways\n",
        "kegg.sets.hs <- kegg.sets.hs[sigmet.idx.hs]"
      ]
    },
    {
      "cell_type": "code",
      "source": [
        "# Convert gene IDs for gseKEGG function\n",
        "# We will lose some genes here because not all IDs will be converted\n",
        "ids <-bitr(rownames(result), fromType = \"ENSEMBL\", toType = \"ENTREZID\", OrgDb=organism)\n",
        "\n",
        "# remove duplicate IDS (here I use \"ENSEMBL\", but it should be whatever was selected as keyType)\n",
        "dedup_ids = ids[!duplicated(ids[c(\"ENSEMBL\")]),]\n",
        "\n",
        "# Create a new dataframe df2 which has only the genes which were successfully mapped using the bitr function above\n",
        "res_dedup = result[dedup_ids$ENSEMBL,]\n",
        "\n",
        "# Create a new column in df2 with the corresponding ENTREZ IDs\n",
        "res_dedup$ENTREZID = dedup_ids$ENTREZID\n",
        "\n",
        "#Extract the fold changes from the results\n",
        "foldchanges <- res_dedup$log2FoldChange\n",
        "\n",
        "# Name fold change vector with ENTREZ ids\n",
        "names(foldchanges) <- res_dedup$ENTREZID\n",
        "\n",
        "# omit any NA values\n",
        "foldchanges<-na.omit(foldchanges)\n",
        "\n",
        "# sort the list in decreasing order (required for clusterProfiler)\n",
        "foldchanges = sort(foldchanges, decreasing = TRUE)\n",
        "\n",
        "#check top 5 values\n",
        "head(foldchanges)"
      ],
      "metadata": {
        "colab": {
          "base_uri": "https://localhost:8080/",
          "height": 121
        },
        "id": "LvqeAi9t8-sM",
        "outputId": "788237ef-16ce-4945-8cf4-497cc840cb69"
      },
      "execution_count": null,
      "outputs": [
        {
          "output_type": "stream",
          "name": "stderr",
          "text": [
            "'select()' returned 1:many mapping between keys and columns\n",
            "\n",
            "Warning message in bitr(rownames(result), fromType = \"ENSEMBL\", toType = \"ENTREZID\", :\n",
            "“35.2% of input gene IDs are fail to map...”\n"
          ]
        },
        {
          "output_type": "display_data",
          "data": {
            "text/html": [
              "<style>\n",
              ".dl-inline {width: auto; margin:0; padding: 0}\n",
              ".dl-inline>dt, .dl-inline>dd {float: none; width: auto; display: inline-block}\n",
              ".dl-inline>dt::after {content: \":\\0020\"; padding-right: .5ex}\n",
              ".dl-inline>dt:not(:first-of-type) {padding-left: .5ex}\n",
              "</style><dl class=dl-inline><dt>54490</dt><dd>22.3586554197673</dd><dt>28785</dt><dd>9.01191879480191</dd><dt>28891</dt><dd>8.43830039289629</dd><dt>28454</dt><dd>8.23399342229838</dd><dt>28477</dt><dd>8.05582857837258</dd><dt>28455</dt><dd>7.98889539840894</dd></dl>\n"
            ],
            "text/markdown": "54490\n:   22.358655419767328785\n:   9.0119187948019128891\n:   8.4383003928962928454\n:   8.2339934222983828477\n:   8.0558285783725828455\n:   7.98889539840894\n\n",
            "text/latex": "\\begin{description*}\n\\item[54490] 22.3586554197673\n\\item[28785] 9.01191879480191\n\\item[28891] 8.43830039289629\n\\item[28454] 8.23399342229838\n\\item[28477] 8.05582857837258\n\\item[28455] 7.98889539840894\n\\end{description*}\n",
            "text/plain": [
              "    54490     28785     28891     28454     28477     28455 \n",
              "22.358655  9.011919  8.438300  8.233993  8.055829  7.988895 "
            ]
          },
          "metadata": {}
        }
      ]
    },
    {
      "cell_type": "code",
      "execution_count": null,
      "metadata": {
        "colab": {
          "base_uri": "https://localhost:8080/",
          "height": 52
        },
        "id": "cZP8KRkzpxJY",
        "outputId": "30cca888-9299-4b5b-ff41-726f5bf61d37"
      },
      "outputs": [
        {
          "output_type": "display_data",
          "data": {
            "text/html": [
              "<style>\n",
              ".dl-inline {width: auto; margin:0; padding: 0}\n",
              ".dl-inline>dt, .dl-inline>dd {float: none; width: auto; display: inline-block}\n",
              ".dl-inline>dt::after {content: \":\\0020\"; padding-right: .5ex}\n",
              ".dl-inline>dt:not(:first-of-type) {padding-left: .5ex}\n",
              "</style><dl class=dl-inline><dt>54490</dt><dd>22.3586554197673</dd><dt>28785</dt><dd>9.01191879480191</dd><dt>28891</dt><dd>8.43830039289629</dd><dt>28454</dt><dd>8.23399342229838</dd><dt>28477</dt><dd>8.05582857837258</dd><dt>28455</dt><dd>7.98889539840894</dd></dl>\n"
            ],
            "text/markdown": "54490\n:   22.358655419767328785\n:   9.0119187948019128891\n:   8.4383003928962928454\n:   8.2339934222983828477\n:   8.0558285783725828455\n:   7.98889539840894\n\n",
            "text/latex": "\\begin{description*}\n\\item[54490] 22.3586554197673\n\\item[28785] 9.01191879480191\n\\item[28891] 8.43830039289629\n\\item[28454] 8.23399342229838\n\\item[28477] 8.05582857837258\n\\item[28455] 7.98889539840894\n\\end{description*}\n",
            "text/plain": [
              "    54490     28785     28891     28454     28477     28455 \n",
              "22.358655  9.011919  8.438300  8.233993  8.055829  7.988895 "
            ]
          },
          "metadata": {}
        }
      ],
      "source": [
        "# Extract log2 fold changes and assign ENTREZ IDs\n",
        "foldchanges <- res_dedup$log2FoldChange\n",
        "names(foldchanges) <- res_dedup$ENTREZID\n",
        "\n",
        "# Remove NA values from foldchanges and sort\n",
        "foldchanges <- na.omit(foldchanges)\n",
        "foldchanges <- sort(foldchanges, decreasing=TRUE)\n",
        "\n",
        "# Check top fold change values\n",
        "head(foldchanges)"
      ]
    },
    {
      "cell_type": "markdown",
      "metadata": {
        "id": "K0B002Wfyoxd"
      },
      "source": [
        "## **Pathway Analysis with GAGE**"
      ]
    },
    {
      "cell_type": "code",
      "execution_count": null,
      "metadata": {
        "colab": {
          "base_uri": "https://localhost:8080/"
        },
        "id": "2bbNE3RAp0lk",
        "outputId": "775198d9-ce9f-4f1b-aee4-c1d80638f946"
      },
      "outputs": [
        {
          "output_type": "stream",
          "name": "stdout",
          "text": [
            "Number of overlapping genes with KEGG pathways:  3706 \n"
          ]
        }
      ],
      "source": [
        "# Check overlap between your data and KEGG pathway genes\n",
        "overlapping_genes <- intersect(names(foldchanges), unlist(kegg.sets.hs))\n",
        "cat(\"Number of overlapping genes with KEGG pathways: \", length(overlapping_genes), \"\\n\")"
      ]
    },
    {
      "cell_type": "code",
      "execution_count": null,
      "metadata": {
        "id": "9CheGqYPp4Lv"
      },
      "outputs": [],
      "source": [
        "# Perform GAGE pathway analysis if enough overlapping genes\n",
        "if (length(overlapping_genes) > 10) {\n",
        "    kegg_result <- gage(foldchanges, gsets=kegg.sets.hs, same.dir=TRUE)\n",
        "\n",
        "    # Write results of all pathways (upregulated and downregulated) to a file\n",
        "    if (!is.null(kegg_result)) {\n",
        "        write.table(kegg_result, file=\"all_pathways.txt\", sep=\"\\t\", row.names=TRUE, quote=FALSE)\n",
        "    } else {\n",
        "        cat(\"No significant pathways found.\\n\")\n",
        "    }\n",
        "} else {\n",
        "    cat(\"Not enough overlapping genes to perform pathway analysis.\\n\")\n",
        "}"
      ]
    },
    {
      "cell_type": "code",
      "execution_count": null,
      "metadata": {
        "id": "UOsWtyPsp6P-"
      },
      "outputs": [],
      "source": [
        "# Extract upregulated and downregulated pathways\n",
        "Upreg_pathways <- data.frame(Pathway_id=rownames(kegg_result$greater), kegg_result$greater)\n",
        "Downreg_pathways <- data.frame(Pathway_id=rownames(kegg_result$less), kegg_result$less)\n",
        "\n",
        "# Check for any NA pathway names\n",
        "if (any(is.na(Upreg_pathways$Pathway_id))) {\n",
        "    cat(\"Some upregulated pathways are missing names.\\n\")\n",
        "}\n",
        "if (any(is.na(Downreg_pathways$Pathway_id))) {\n",
        "    cat(\"Some downregulated pathways are missing names.\\n\")\n",
        "}"
      ]
    },
    {
      "cell_type": "markdown",
      "metadata": {
        "id": "72Fhoi20yrYO"
      },
      "source": [
        "## **Pathway Gene Extraction**"
      ]
    },
    {
      "cell_type": "code",
      "execution_count": null,
      "metadata": {
        "id": "tZwH-W81p71o"
      },
      "outputs": [],
      "source": [
        "# Function to extract genes involved in each pathway\n",
        "extract_pathway_genes <- function(pathway_data, pathway_name, kegg_sets, foldchanges) {\n",
        "    pathway_genes <- kegg_sets[[pathway_name]]\n",
        "    pathway_genes <- intersect(pathway_genes, names(foldchanges))\n",
        "    return(paste(pathway_genes, collapse = \", \"))\n",
        "}"
      ]
    },
    {
      "cell_type": "markdown",
      "metadata": {
        "id": "lZEc1TZz4Npd"
      },
      "source": [
        "## **Enrichment Analysis**"
      ]
    },
    {
      "cell_type": "code",
      "execution_count": null,
      "metadata": {
        "colab": {
          "base_uri": "https://localhost:8080/"
        },
        "id": "Gv9nEgbO27j6",
        "outputId": "ecc4d2b2-1b05-44f6-d391-54825a9d50b8"
      },
      "outputs": [
        {
          "output_type": "stream",
          "name": "stdout",
          "text": [
            "Processing pathway: hsa04062 Chemokine signaling pathway \n"
          ]
        },
        {
          "output_type": "stream",
          "name": "stderr",
          "text": [
            "'select()' returned 1:1 mapping between keys and columns\n",
            "\n"
          ]
        },
        {
          "output_type": "stream",
          "name": "stdout",
          "text": [
            "Processing pathway: hsa04640 Hematopoietic cell lineage \n"
          ]
        },
        {
          "output_type": "stream",
          "name": "stderr",
          "text": [
            "'select()' returned 1:1 mapping between keys and columns\n",
            "\n"
          ]
        },
        {
          "output_type": "stream",
          "name": "stdout",
          "text": [
            "Processing pathway: hsa04672 Intestinal immune network for IgA production \n"
          ]
        },
        {
          "output_type": "stream",
          "name": "stderr",
          "text": [
            "'select()' returned 1:1 mapping between keys and columns\n",
            "\n"
          ]
        },
        {
          "output_type": "stream",
          "name": "stdout",
          "text": [
            "Processing pathway: hsa04650 Natural killer cell mediated cytotoxicity \n"
          ]
        },
        {
          "output_type": "stream",
          "name": "stderr",
          "text": [
            "'select()' returned 1:1 mapping between keys and columns\n",
            "\n"
          ]
        },
        {
          "output_type": "stream",
          "name": "stdout",
          "text": [
            "Processing pathway: hsa04612 Antigen processing and presentation \n"
          ]
        },
        {
          "output_type": "stream",
          "name": "stderr",
          "text": [
            "'select()' returned 1:1 mapping between keys and columns\n",
            "\n"
          ]
        },
        {
          "output_type": "stream",
          "name": "stdout",
          "text": [
            "Processing pathway: hsa04620 Toll-like receptor signaling pathway \n"
          ]
        },
        {
          "output_type": "stream",
          "name": "stderr",
          "text": [
            "'select()' returned 1:1 mapping between keys and columns\n",
            "\n"
          ]
        },
        {
          "output_type": "stream",
          "name": "stdout",
          "text": [
            "Processing pathway: hsa04660 T cell receptor signaling pathway \n"
          ]
        },
        {
          "output_type": "stream",
          "name": "stderr",
          "text": [
            "'select()' returned 1:1 mapping between keys and columns\n",
            "\n"
          ]
        },
        {
          "output_type": "stream",
          "name": "stdout",
          "text": [
            "Processing pathway: hsa04380 Osteoclast differentiation \n"
          ]
        },
        {
          "output_type": "stream",
          "name": "stderr",
          "text": [
            "'select()' returned 1:1 mapping between keys and columns\n",
            "\n"
          ]
        },
        {
          "output_type": "stream",
          "name": "stdout",
          "text": [
            "Processing pathway: hsa04514 Cell adhesion molecules (CAMs) \n"
          ]
        },
        {
          "output_type": "stream",
          "name": "stderr",
          "text": [
            "'select()' returned 1:1 mapping between keys and columns\n",
            "\n"
          ]
        },
        {
          "output_type": "stream",
          "name": "stdout",
          "text": [
            "Processing pathway: hsa04145 Phagosome \n"
          ]
        },
        {
          "output_type": "stream",
          "name": "stderr",
          "text": [
            "'select()' returned 1:1 mapping between keys and columns\n",
            "\n"
          ]
        },
        {
          "output_type": "stream",
          "name": "stdout",
          "text": [
            "Processing pathway: hsa04630 Jak-STAT signaling pathway \n"
          ]
        },
        {
          "output_type": "stream",
          "name": "stderr",
          "text": [
            "'select()' returned 1:1 mapping between keys and columns\n",
            "\n"
          ]
        },
        {
          "output_type": "stream",
          "name": "stdout",
          "text": [
            "Processing pathway: hsa04610 Complement and coagulation cascades \n"
          ]
        },
        {
          "output_type": "stream",
          "name": "stderr",
          "text": [
            "'select()' returned 1:1 mapping between keys and columns\n",
            "\n"
          ]
        },
        {
          "output_type": "stream",
          "name": "stdout",
          "text": [
            "Processing pathway: hsa04512 ECM-receptor interaction \n"
          ]
        },
        {
          "output_type": "stream",
          "name": "stderr",
          "text": [
            "'select()' returned 1:1 mapping between keys and columns\n",
            "\n"
          ]
        },
        {
          "output_type": "stream",
          "name": "stdout",
          "text": [
            "Processing pathway: hsa04621 NOD-like receptor signaling pathway \n"
          ]
        },
        {
          "output_type": "stream",
          "name": "stderr",
          "text": [
            "'select()' returned 1:1 mapping between keys and columns\n",
            "\n"
          ]
        },
        {
          "output_type": "stream",
          "name": "stdout",
          "text": [
            "Processing pathway: hsa04662 B cell receptor signaling pathway \n"
          ]
        },
        {
          "output_type": "stream",
          "name": "stderr",
          "text": [
            "'select()' returned 1:1 mapping between keys and columns\n",
            "\n"
          ]
        },
        {
          "output_type": "stream",
          "name": "stdout",
          "text": [
            "Processing pathway: hsa04666 Fc gamma R-mediated phagocytosis \n"
          ]
        },
        {
          "output_type": "stream",
          "name": "stderr",
          "text": [
            "'select()' returned 1:1 mapping between keys and columns\n",
            "\n"
          ]
        },
        {
          "output_type": "stream",
          "name": "stdout",
          "text": [
            "Processing pathway: hsa04974 Protein digestion and absorption \n"
          ]
        },
        {
          "output_type": "stream",
          "name": "stderr",
          "text": [
            "'select()' returned 1:1 mapping between keys and columns\n",
            "\n"
          ]
        },
        {
          "output_type": "stream",
          "name": "stdout",
          "text": [
            "Processing pathway: hsa04210 Apoptosis \n"
          ]
        },
        {
          "output_type": "stream",
          "name": "stderr",
          "text": [
            "'select()' returned 1:1 mapping between keys and columns\n",
            "\n"
          ]
        },
        {
          "output_type": "stream",
          "name": "stdout",
          "text": [
            "Processing pathway: hsa04142 Lysosome \n"
          ]
        },
        {
          "output_type": "stream",
          "name": "stderr",
          "text": [
            "'select()' returned 1:1 mapping between keys and columns\n",
            "\n"
          ]
        },
        {
          "output_type": "stream",
          "name": "stdout",
          "text": [
            "Processing pathway: hsa04510 Focal adhesion \n"
          ]
        },
        {
          "output_type": "stream",
          "name": "stderr",
          "text": [
            "'select()' returned 1:1 mapping between keys and columns\n",
            "\n"
          ]
        },
        {
          "output_type": "stream",
          "name": "stdout",
          "text": [
            "Processing pathway: hsa04623 Cytosolic DNA-sensing pathway \n"
          ]
        },
        {
          "output_type": "stream",
          "name": "stderr",
          "text": [
            "'select()' returned 1:1 mapping between keys and columns\n",
            "\n"
          ]
        },
        {
          "output_type": "stream",
          "name": "stdout",
          "text": [
            "Processing pathway: hsa00514 Other types of O-glycan biosynthesis \n"
          ]
        },
        {
          "output_type": "stream",
          "name": "stderr",
          "text": [
            "'select()' returned 1:1 mapping between keys and columns\n",
            "\n"
          ]
        },
        {
          "output_type": "stream",
          "name": "stdout",
          "text": [
            "Processing pathway: hsa00053 Ascorbate and aldarate metabolism \n"
          ]
        },
        {
          "output_type": "stream",
          "name": "stderr",
          "text": [
            "'select()' returned 1:1 mapping between keys and columns\n",
            "\n"
          ]
        },
        {
          "output_type": "stream",
          "name": "stdout",
          "text": [
            "Processing pathway: hsa00040 Pentose and glucuronate interconversions \n"
          ]
        },
        {
          "output_type": "stream",
          "name": "stderr",
          "text": [
            "'select()' returned 1:1 mapping between keys and columns\n",
            "\n"
          ]
        },
        {
          "output_type": "stream",
          "name": "stdout",
          "text": [
            "Processing pathway: hsa04622 RIG-I-like receptor signaling pathway \n"
          ]
        },
        {
          "output_type": "stream",
          "name": "stderr",
          "text": [
            "'select()' returned 1:1 mapping between keys and columns\n",
            "\n"
          ]
        },
        {
          "output_type": "stream",
          "name": "stdout",
          "text": [
            "Processing pathway: hsa00983 Drug metabolism - other enzymes \n"
          ]
        },
        {
          "output_type": "stream",
          "name": "stderr",
          "text": [
            "'select()' returned 1:1 mapping between keys and columns\n",
            "\n"
          ]
        },
        {
          "output_type": "stream",
          "name": "stdout",
          "text": [
            "Processing pathway: hsa00500 Starch and sucrose metabolism \n"
          ]
        },
        {
          "output_type": "stream",
          "name": "stderr",
          "text": [
            "'select()' returned 1:1 mapping between keys and columns\n",
            "\n"
          ]
        },
        {
          "output_type": "stream",
          "name": "stdout",
          "text": [
            "Processing pathway: hsa00860 Porphyrin and chlorophyll metabolism \n"
          ]
        },
        {
          "output_type": "stream",
          "name": "stderr",
          "text": [
            "'select()' returned 1:1 mapping between keys and columns\n",
            "\n"
          ]
        },
        {
          "output_type": "stream",
          "name": "stdout",
          "text": [
            "Processing pathway: hsa00520 Amino sugar and nucleotide sugar metabolism \n"
          ]
        },
        {
          "output_type": "stream",
          "name": "stderr",
          "text": [
            "'select()' returned 1:1 mapping between keys and columns\n",
            "\n"
          ]
        },
        {
          "output_type": "stream",
          "name": "stdout",
          "text": [
            "Processing pathway: hsa00140 Steroid hormone biosynthesis \n"
          ]
        },
        {
          "output_type": "stream",
          "name": "stderr",
          "text": [
            "'select()' returned 1:1 mapping between keys and columns\n",
            "\n"
          ]
        },
        {
          "output_type": "stream",
          "name": "stdout",
          "text": [
            "Processing pathway: hsa04614 Renin-angiotensin system \n"
          ]
        },
        {
          "output_type": "stream",
          "name": "stderr",
          "text": [
            "'select()' returned 1:1 mapping between keys and columns\n",
            "\n"
          ]
        },
        {
          "output_type": "stream",
          "name": "stdout",
          "text": [
            "Processing pathway: hsa00533 Glycosaminoglycan biosynthesis - keratan sulfate \n"
          ]
        },
        {
          "output_type": "stream",
          "name": "stderr",
          "text": [
            "'select()' returned 1:1 mapping between keys and columns\n",
            "\n"
          ]
        },
        {
          "output_type": "stream",
          "name": "stdout",
          "text": [
            "Processing pathway: hsa04370 VEGF signaling pathway \n"
          ]
        },
        {
          "output_type": "stream",
          "name": "stderr",
          "text": [
            "'select()' returned 1:1 mapping between keys and columns\n",
            "\n"
          ]
        },
        {
          "output_type": "stream",
          "name": "stdout",
          "text": [
            "Processing pathway: hsa04664 Fc epsilon RI signaling pathway \n"
          ]
        },
        {
          "output_type": "stream",
          "name": "stderr",
          "text": [
            "'select()' returned 1:1 mapping between keys and columns\n",
            "\n"
          ]
        },
        {
          "output_type": "stream",
          "name": "stdout",
          "text": [
            "Processing pathway: hsa00760 Nicotinate and nicotinamide metabolism \n"
          ]
        },
        {
          "output_type": "stream",
          "name": "stderr",
          "text": [
            "'select()' returned 1:1 mapping between keys and columns\n",
            "\n"
          ]
        },
        {
          "output_type": "stream",
          "name": "stdout",
          "text": [
            "Processing pathway: hsa00604 Glycosphingolipid biosynthesis - ganglio series \n"
          ]
        },
        {
          "output_type": "stream",
          "name": "stderr",
          "text": [
            "'select()' returned 1:1 mapping between keys and columns\n",
            "\n"
          ]
        },
        {
          "output_type": "stream",
          "name": "stdout",
          "text": [
            "Processing pathway: hsa04730 Long-term depression \n"
          ]
        },
        {
          "output_type": "stream",
          "name": "stderr",
          "text": [
            "'select()' returned 1:1 mapping between keys and columns\n",
            "\n"
          ]
        },
        {
          "output_type": "stream",
          "name": "stdout",
          "text": [
            "Processing pathway: hsa00380 Tryptophan metabolism \n"
          ]
        },
        {
          "output_type": "stream",
          "name": "stderr",
          "text": [
            "'select()' returned 1:1 mapping between keys and columns\n",
            "\n"
          ]
        },
        {
          "output_type": "stream",
          "name": "stdout",
          "text": [
            "Processing pathway: hsa04141 Protein processing in endoplasmic reticulum \n"
          ]
        },
        {
          "output_type": "stream",
          "name": "stderr",
          "text": [
            "'select()' returned 1:1 mapping between keys and columns\n",
            "\n"
          ]
        },
        {
          "output_type": "stream",
          "name": "stdout",
          "text": [
            "Processing pathway: hsa00982 Drug metabolism - cytochrome P450 \n"
          ]
        },
        {
          "output_type": "stream",
          "name": "stderr",
          "text": [
            "'select()' returned 1:1 mapping between keys and columns\n",
            "\n"
          ]
        },
        {
          "output_type": "stream",
          "name": "stdout",
          "text": [
            "Processing pathway: hsa00830 Retinol metabolism \n"
          ]
        },
        {
          "output_type": "stream",
          "name": "stderr",
          "text": [
            "'select()' returned 1:1 mapping between keys and columns\n",
            "\n"
          ]
        },
        {
          "output_type": "stream",
          "name": "stdout",
          "text": [
            "Processing pathway: hsa00565 Ether lipid metabolism \n"
          ]
        },
        {
          "output_type": "stream",
          "name": "stderr",
          "text": [
            "'select()' returned 1:1 mapping between keys and columns\n",
            "\n"
          ]
        },
        {
          "output_type": "stream",
          "name": "stdout",
          "text": [
            "Processing pathway: hsa00531 Glycosaminoglycan degradation \n"
          ]
        },
        {
          "output_type": "stream",
          "name": "stderr",
          "text": [
            "'select()' returned 1:1 mapping between keys and columns\n",
            "\n"
          ]
        },
        {
          "output_type": "stream",
          "name": "stdout",
          "text": [
            "Processing pathway: hsa00532 Glycosaminoglycan biosynthesis - chondroitin sulfate \n"
          ]
        },
        {
          "output_type": "stream",
          "name": "stderr",
          "text": [
            "'select()' returned 1:1 mapping between keys and columns\n",
            "\n"
          ]
        },
        {
          "output_type": "stream",
          "name": "stdout",
          "text": [
            "Processing pathway: hsa00270 Cysteine and methionine metabolism \n"
          ]
        },
        {
          "output_type": "stream",
          "name": "stderr",
          "text": [
            "'select()' returned 1:1 mapping between keys and columns\n",
            "\n"
          ]
        },
        {
          "output_type": "stream",
          "name": "stdout",
          "text": [
            "Processing pathway: hsa00052 Galactose metabolism \n"
          ]
        },
        {
          "output_type": "stream",
          "name": "stderr",
          "text": [
            "'select()' returned 1:1 mapping between keys and columns\n",
            "\n"
          ]
        },
        {
          "output_type": "stream",
          "name": "stdout",
          "text": [
            "Processing pathway: hsa00590 Arachidonic acid metabolism \n"
          ]
        },
        {
          "output_type": "stream",
          "name": "stderr",
          "text": [
            "'select()' returned 1:1 mapping between keys and columns\n",
            "\n"
          ]
        },
        {
          "output_type": "stream",
          "name": "stdout",
          "text": [
            "Processing pathway: hsa00770 Pantothenate and CoA biosynthesis \n"
          ]
        },
        {
          "output_type": "stream",
          "name": "stderr",
          "text": [
            "'select()' returned 1:1 mapping between keys and columns\n",
            "\n"
          ]
        },
        {
          "output_type": "stream",
          "name": "stdout",
          "text": [
            "Processing pathway: hsa00980 Metabolism of xenobiotics by cytochrome P450 \n"
          ]
        },
        {
          "output_type": "stream",
          "name": "stderr",
          "text": [
            "'select()' returned 1:1 mapping between keys and columns\n",
            "\n"
          ]
        },
        {
          "output_type": "stream",
          "name": "stdout",
          "text": [
            "Processing pathway: hsa03050 Proteasome \n"
          ]
        },
        {
          "output_type": "stream",
          "name": "stderr",
          "text": [
            "'select()' returned 1:1 mapping between keys and columns\n",
            "\n"
          ]
        },
        {
          "output_type": "stream",
          "name": "stdout",
          "text": [
            "Processing pathway: hsa00511 Other glycan degradation \n"
          ]
        },
        {
          "output_type": "stream",
          "name": "stderr",
          "text": [
            "'select()' returned 1:1 mapping between keys and columns\n",
            "\n"
          ]
        },
        {
          "output_type": "stream",
          "name": "stdout",
          "text": [
            "Processing pathway: hsa00051 Fructose and mannose metabolism \n"
          ]
        },
        {
          "output_type": "stream",
          "name": "stderr",
          "text": [
            "'select()' returned 1:1 mapping between keys and columns\n",
            "\n"
          ]
        },
        {
          "output_type": "stream",
          "name": "stdout",
          "text": [
            "Processing pathway: hsa00592 alpha-Linolenic acid metabolism \n"
          ]
        },
        {
          "output_type": "stream",
          "name": "stderr",
          "text": [
            "'select()' returned 1:1 mapping between keys and columns\n",
            "\n"
          ]
        },
        {
          "output_type": "stream",
          "name": "stdout",
          "text": [
            "Processing pathway: hsa00330 Arginine and proline metabolism \n"
          ]
        },
        {
          "output_type": "stream",
          "name": "stderr",
          "text": [
            "'select()' returned 1:1 mapping between keys and columns\n",
            "\n"
          ]
        },
        {
          "output_type": "stream",
          "name": "stdout",
          "text": [
            "Processing pathway: hsa00240 Pyrimidine metabolism \n"
          ]
        },
        {
          "output_type": "stream",
          "name": "stderr",
          "text": [
            "'select()' returned 1:1 mapping between keys and columns\n",
            "\n"
          ]
        },
        {
          "output_type": "stream",
          "name": "stdout",
          "text": [
            "Processing pathway: hsa00512 Mucin type O-Glycan biosynthesis \n"
          ]
        },
        {
          "output_type": "stream",
          "name": "stderr",
          "text": [
            "'select()' returned 1:1 mapping between keys and columns\n",
            "\n"
          ]
        },
        {
          "output_type": "stream",
          "name": "stdout",
          "text": [
            "Processing pathway: hsa04670 Leukocyte transendothelial migration \n"
          ]
        },
        {
          "output_type": "stream",
          "name": "stderr",
          "text": [
            "'select()' returned 1:1 mapping between keys and columns\n",
            "\n"
          ]
        },
        {
          "output_type": "stream",
          "name": "stdout",
          "text": [
            "Processing pathway: hsa00920 Sulfur metabolism \n"
          ]
        },
        {
          "output_type": "stream",
          "name": "stderr",
          "text": [
            "'select()' returned 1:1 mapping between keys and columns\n",
            "\n"
          ]
        },
        {
          "output_type": "stream",
          "name": "stdout",
          "text": [
            "Processing pathway: hsa00510 N-Glycan biosynthesis \n"
          ]
        },
        {
          "output_type": "stream",
          "name": "stderr",
          "text": [
            "'select()' returned 1:1 mapping between keys and columns\n",
            "\n"
          ]
        },
        {
          "output_type": "stream",
          "name": "stdout",
          "text": [
            "Processing pathway: hsa04010 MAPK signaling pathway \n"
          ]
        },
        {
          "output_type": "stream",
          "name": "stderr",
          "text": [
            "'select()' returned 1:1 mapping between keys and columns\n",
            "\n"
          ]
        },
        {
          "output_type": "stream",
          "name": "stdout",
          "text": [
            "Processing pathway: hsa04975 Fat digestion and absorption \n"
          ]
        },
        {
          "output_type": "stream",
          "name": "stderr",
          "text": [
            "'select()' returned 1:1 mapping between keys and columns\n",
            "\n"
          ]
        },
        {
          "output_type": "stream",
          "name": "stdout",
          "text": [
            "Processing pathway: hsa00480 Glutathione metabolism \n"
          ]
        },
        {
          "output_type": "stream",
          "name": "stderr",
          "text": [
            "'select()' returned 1:1 mapping between keys and columns\n",
            "\n"
          ]
        },
        {
          "output_type": "stream",
          "name": "stdout",
          "text": [
            "Processing pathway: hsa00230 Purine metabolism \n"
          ]
        },
        {
          "output_type": "stream",
          "name": "stderr",
          "text": [
            "'select()' returned 1:1 mapping between keys and columns\n",
            "\n"
          ]
        },
        {
          "output_type": "stream",
          "name": "stdout",
          "text": [
            "Processing pathway: hsa03060 Protein export \n"
          ]
        },
        {
          "output_type": "stream",
          "name": "stderr",
          "text": [
            "'select()' returned 1:1 mapping between keys and columns\n",
            "\n"
          ]
        },
        {
          "output_type": "stream",
          "name": "stdout",
          "text": [
            "Processing pathway: hsa00190 Oxidative phosphorylation \n"
          ]
        },
        {
          "output_type": "stream",
          "name": "stderr",
          "text": [
            "'select()' returned 1:1 mapping between keys and columns\n",
            "\n"
          ]
        },
        {
          "output_type": "stream",
          "name": "stdout",
          "text": [
            "Processing pathway: hsa00603 Glycosphingolipid biosynthesis - globo series \n"
          ]
        },
        {
          "output_type": "stream",
          "name": "stderr",
          "text": [
            "'select()' returned 1:1 mapping between keys and columns\n",
            "\n"
          ]
        },
        {
          "output_type": "stream",
          "name": "stdout",
          "text": [
            "Processing pathway: hsa00564 Glycerophospholipid metabolism \n"
          ]
        },
        {
          "output_type": "stream",
          "name": "stderr",
          "text": [
            "'select()' returned 1:1 mapping between keys and columns\n",
            "\n"
          ]
        },
        {
          "output_type": "stream",
          "name": "stdout",
          "text": [
            "Processing pathway: hsa04115 p53 signaling pathway \n"
          ]
        },
        {
          "output_type": "stream",
          "name": "stderr",
          "text": [
            "'select()' returned 1:1 mapping between keys and columns\n",
            "\n"
          ]
        },
        {
          "output_type": "stream",
          "name": "stdout",
          "text": [
            "Processing pathway: hsa04973 Carbohydrate digestion and absorption \n"
          ]
        },
        {
          "output_type": "stream",
          "name": "stderr",
          "text": [
            "'select()' returned 1:1 mapping between keys and columns\n",
            "\n"
          ]
        },
        {
          "output_type": "stream",
          "name": "stdout",
          "text": [
            "Processing pathway: hsa00120 Primary bile acid biosynthesis \n"
          ]
        },
        {
          "output_type": "stream",
          "name": "stderr",
          "text": [
            "'select()' returned 1:1 mapping between keys and columns\n",
            "\n"
          ]
        },
        {
          "output_type": "stream",
          "name": "stdout",
          "text": [
            "Processing pathway: hsa04350 TGF-beta signaling pathway \n"
          ]
        },
        {
          "output_type": "stream",
          "name": "stderr",
          "text": [
            "'select()' returned 1:1 mapping between keys and columns\n",
            "\n"
          ]
        },
        {
          "output_type": "stream",
          "name": "stdout",
          "text": [
            "Processing pathway: hsa00562 Inositol phosphate metabolism \n"
          ]
        },
        {
          "output_type": "stream",
          "name": "stderr",
          "text": [
            "'select()' returned 1:1 mapping between keys and columns\n",
            "\n"
          ]
        },
        {
          "output_type": "stream",
          "name": "stdout",
          "text": [
            "Processing pathway: hsa00340 Histidine metabolism \n"
          ]
        },
        {
          "output_type": "stream",
          "name": "stderr",
          "text": [
            "'select()' returned 1:1 mapping between keys and columns\n",
            "\n"
          ]
        },
        {
          "output_type": "stream",
          "name": "stdout",
          "text": [
            "Processing pathway: hsa04270 Vascular smooth muscle contraction \n"
          ]
        },
        {
          "output_type": "stream",
          "name": "stderr",
          "text": [
            "'select()' returned 1:1 mapping between keys and columns\n",
            "\n"
          ]
        },
        {
          "output_type": "stream",
          "name": "stdout",
          "text": [
            "Processing pathway: hsa04960 Aldosterone-regulated sodium reabsorption \n"
          ]
        },
        {
          "output_type": "stream",
          "name": "stderr",
          "text": [
            "'select()' returned 1:1 mapping between keys and columns\n",
            "\n"
          ]
        },
        {
          "output_type": "stream",
          "name": "stdout",
          "text": [
            "Processing pathway: hsa00030 Pentose phosphate pathway \n"
          ]
        },
        {
          "output_type": "stream",
          "name": "stderr",
          "text": [
            "'select()' returned 1:1 mapping between keys and columns\n",
            "\n"
          ]
        },
        {
          "output_type": "stream",
          "name": "stdout",
          "text": [
            "Processing pathway: hsa04966 Collecting duct acid secretion \n"
          ]
        },
        {
          "output_type": "stream",
          "name": "stderr",
          "text": [
            "'select()' returned 1:1 mapping between keys and columns\n",
            "\n"
          ]
        },
        {
          "output_type": "stream",
          "name": "stdout",
          "text": [
            "Processing pathway: hsa03450 Non-homologous end-joining \n"
          ]
        },
        {
          "output_type": "stream",
          "name": "stderr",
          "text": [
            "'select()' returned 1:1 mapping between keys and columns\n",
            "\n"
          ]
        },
        {
          "output_type": "stream",
          "name": "stdout",
          "text": [
            "Processing pathway: hsa04972 Pancreatic secretion \n"
          ]
        },
        {
          "output_type": "stream",
          "name": "stderr",
          "text": [
            "'select()' returned 1:1 mapping between keys and columns\n",
            "\n"
          ]
        },
        {
          "output_type": "stream",
          "name": "stdout",
          "text": [
            "Processing pathway: hsa04150 mTOR signaling pathway \n"
          ]
        },
        {
          "output_type": "stream",
          "name": "stderr",
          "text": [
            "'select()' returned 1:1 mapping between keys and columns\n",
            "\n"
          ]
        },
        {
          "output_type": "stream",
          "name": "stdout",
          "text": [
            "Processing pathway: hsa00591 Linoleic acid metabolism \n"
          ]
        },
        {
          "output_type": "stream",
          "name": "stderr",
          "text": [
            "'select()' returned 1:1 mapping between keys and columns\n",
            "\n"
          ]
        },
        {
          "output_type": "stream",
          "name": "stdout",
          "text": [
            "Processing pathway: hsa04110 Cell cycle \n"
          ]
        },
        {
          "output_type": "stream",
          "name": "stderr",
          "text": [
            "'select()' returned 1:1 mapping between keys and columns\n",
            "\n"
          ]
        },
        {
          "output_type": "stream",
          "name": "stdout",
          "text": [
            "Processing pathway: hsa00450 Selenocompound metabolism \n"
          ]
        },
        {
          "output_type": "stream",
          "name": "stderr",
          "text": [
            "'select()' returned 1:1 mapping between keys and columns\n",
            "\n"
          ]
        },
        {
          "output_type": "stream",
          "name": "stdout",
          "text": [
            "Processing pathway: hsa04130 SNARE interactions in vesicular transport \n"
          ]
        },
        {
          "output_type": "stream",
          "name": "stderr",
          "text": [
            "'select()' returned 1:1 mapping between keys and columns\n",
            "\n"
          ]
        },
        {
          "output_type": "stream",
          "name": "stdout",
          "text": [
            "Processing pathway: hsa00350 Tyrosine metabolism \n"
          ]
        },
        {
          "output_type": "stream",
          "name": "stderr",
          "text": [
            "'select()' returned 1:1 mapping between keys and columns\n",
            "\n"
          ]
        },
        {
          "output_type": "stream",
          "name": "stdout",
          "text": [
            "Processing pathway: hsa04914 Progesterone-mediated oocyte maturation \n"
          ]
        },
        {
          "output_type": "stream",
          "name": "stderr",
          "text": [
            "'select()' returned 1:1 mapping between keys and columns\n",
            "\n"
          ]
        },
        {
          "output_type": "stream",
          "name": "stdout",
          "text": [
            "Processing pathway: hsa04977 Vitamin digestion and absorption \n"
          ]
        },
        {
          "output_type": "stream",
          "name": "stderr",
          "text": [
            "'select()' returned 1:1 mapping between keys and columns\n",
            "\n"
          ]
        },
        {
          "output_type": "stream",
          "name": "stdout",
          "text": [
            "Processing pathway: hsa04330 Notch signaling pathway \n"
          ]
        },
        {
          "output_type": "stream",
          "name": "stderr",
          "text": [
            "'select()' returned 1:1 mapping between keys and columns\n",
            "\n"
          ]
        },
        {
          "output_type": "stream",
          "name": "stdout",
          "text": [
            "Processing pathway: hsa04140 Regulation of autophagy \n"
          ]
        },
        {
          "output_type": "stream",
          "name": "stderr",
          "text": [
            "'select()' returned 1:1 mapping between keys and columns\n",
            "\n"
          ]
        },
        {
          "output_type": "stream",
          "name": "stdout",
          "text": [
            "Processing pathway: hsa00650 Butanoate metabolism \n"
          ]
        },
        {
          "output_type": "stream",
          "name": "stderr",
          "text": [
            "'select()' returned 1:1 mapping between keys and columns\n",
            "\n"
          ]
        },
        {
          "output_type": "stream",
          "name": "stdout",
          "text": [
            "Processing pathway: hsa00670 One carbon pool by folate \n"
          ]
        },
        {
          "output_type": "stream",
          "name": "stderr",
          "text": [
            "'select()' returned 1:1 mapping between keys and columns\n",
            "\n"
          ]
        },
        {
          "output_type": "stream",
          "name": "stdout",
          "text": [
            "Processing pathway: hsa04070 Phosphatidylinositol signaling system \n"
          ]
        },
        {
          "output_type": "stream",
          "name": "stderr",
          "text": [
            "'select()' returned 1:1 mapping between keys and columns\n",
            "\n"
          ]
        },
        {
          "output_type": "stream",
          "name": "stdout",
          "text": [
            "Processing pathway: hsa00250 Alanine, aspartate and glutamate metabolism \n"
          ]
        },
        {
          "output_type": "stream",
          "name": "stderr",
          "text": [
            "'select()' returned 1:1 mapping between keys and columns\n",
            "\n"
          ]
        },
        {
          "output_type": "stream",
          "name": "stdout",
          "text": [
            "Processing pathway: hsa04964 Proximal tubule bicarbonate reclamation \n"
          ]
        },
        {
          "output_type": "stream",
          "name": "stderr",
          "text": [
            "'select()' returned 1:1 mapping between keys and columns\n",
            "\n"
          ]
        },
        {
          "output_type": "stream",
          "name": "stdout",
          "text": [
            "Processing pathway: hsa04971 Gastric acid secretion \n"
          ]
        },
        {
          "output_type": "stream",
          "name": "stderr",
          "text": [
            "'select()' returned 1:1 mapping between keys and columns\n",
            "\n"
          ]
        },
        {
          "output_type": "stream",
          "name": "stdout",
          "text": [
            "Processing pathway: hsa02010 ABC transporters \n"
          ]
        },
        {
          "output_type": "stream",
          "name": "stderr",
          "text": [
            "'select()' returned 1:1 mapping between keys and columns\n",
            "\n"
          ]
        },
        {
          "output_type": "stream",
          "name": "stdout",
          "text": [
            "Processing pathway: hsa04962 Vasopressin-regulated water reabsorption \n"
          ]
        },
        {
          "output_type": "stream",
          "name": "stderr",
          "text": [
            "'select()' returned 1:1 mapping between keys and columns\n",
            "\n"
          ]
        },
        {
          "output_type": "stream",
          "name": "stdout",
          "text": [
            "Processing pathway: hsa00601 Glycosphingolipid biosynthesis - lacto and neolacto series \n"
          ]
        },
        {
          "output_type": "stream",
          "name": "stderr",
          "text": [
            "'select()' returned 1:1 mapping between keys and columns\n",
            "\n"
          ]
        },
        {
          "output_type": "stream",
          "name": "stdout",
          "text": [
            "Processing pathway: hsa00561 Glycerolipid metabolism \n"
          ]
        },
        {
          "output_type": "stream",
          "name": "stderr",
          "text": [
            "'select()' returned 1:1 mapping between keys and columns\n",
            "\n"
          ]
        },
        {
          "output_type": "stream",
          "name": "stdout",
          "text": [
            "Processing pathway: hsa04722 Neurotrophin signaling pathway \n"
          ]
        },
        {
          "output_type": "stream",
          "name": "stderr",
          "text": [
            "'select()' returned 1:1 mapping between keys and columns\n",
            "\n"
          ]
        },
        {
          "output_type": "stream",
          "name": "stdout",
          "text": [
            "Processing pathway: hsa03020 RNA polymerase \n"
          ]
        },
        {
          "output_type": "stream",
          "name": "stderr",
          "text": [
            "'select()' returned 1:1 mapping between keys and columns\n",
            "\n"
          ]
        },
        {
          "output_type": "stream",
          "name": "stdout",
          "text": [
            "Processing pathway: hsa04540 Gap junction \n"
          ]
        },
        {
          "output_type": "stream",
          "name": "stderr",
          "text": [
            "'select()' returned 1:1 mapping between keys and columns\n",
            "\n"
          ]
        },
        {
          "output_type": "stream",
          "name": "stdout",
          "text": [
            "Processing pathway: hsa00010 Glycolysis / Gluconeogenesis \n"
          ]
        },
        {
          "output_type": "stream",
          "name": "stderr",
          "text": [
            "'select()' returned 1:1 mapping between keys and columns\n",
            "\n"
          ]
        },
        {
          "output_type": "stream",
          "name": "stdout",
          "text": [
            "Processing pathway: hsa00600 Sphingolipid metabolism \n"
          ]
        },
        {
          "output_type": "stream",
          "name": "stderr",
          "text": [
            "'select()' returned 1:1 mapping between keys and columns\n",
            "\n"
          ]
        },
        {
          "output_type": "stream",
          "name": "stdout",
          "text": [
            "Processing pathway: hsa04744 Phototransduction \n"
          ]
        },
        {
          "output_type": "stream",
          "name": "stderr",
          "text": [
            "'select()' returned 1:1 mapping between keys and columns\n",
            "\n"
          ]
        },
        {
          "output_type": "stream",
          "name": "stdout",
          "text": [
            "Processing pathway: hsa03410 Base excision repair \n"
          ]
        },
        {
          "output_type": "stream",
          "name": "stderr",
          "text": [
            "'select()' returned 1:1 mapping between keys and columns\n",
            "\n"
          ]
        },
        {
          "output_type": "stream",
          "name": "stdout",
          "text": [
            "Processing pathway: hsa04260 Cardiac muscle contraction \n"
          ]
        },
        {
          "output_type": "stream",
          "name": "stderr",
          "text": [
            "'select()' returned 1:1 mapping between keys and columns\n",
            "\n"
          ]
        },
        {
          "output_type": "stream",
          "name": "stdout",
          "text": [
            "Processing pathway: hsa03030 DNA replication \n"
          ]
        },
        {
          "output_type": "stream",
          "name": "stderr",
          "text": [
            "'select()' returned 1:1 mapping between keys and columns\n",
            "\n"
          ]
        },
        {
          "output_type": "stream",
          "name": "stdout",
          "text": [
            "Processing pathway: hsa04340 Hedgehog signaling pathway \n"
          ]
        },
        {
          "output_type": "stream",
          "name": "stderr",
          "text": [
            "'select()' returned 1:1 mapping between keys and columns\n",
            "\n"
          ]
        },
        {
          "output_type": "stream",
          "name": "stdout",
          "text": [
            "Processing pathway: hsa00100 Steroid biosynthesis \n"
          ]
        },
        {
          "output_type": "stream",
          "name": "stderr",
          "text": [
            "'select()' returned 1:1 mapping between keys and columns\n",
            "\n"
          ]
        },
        {
          "output_type": "stream",
          "name": "stdout",
          "text": [
            "Processing pathway: hsa03440 Homologous recombination \n"
          ]
        },
        {
          "output_type": "stream",
          "name": "stderr",
          "text": [
            "'select()' returned 1:1 mapping between keys and columns\n",
            "\n"
          ]
        },
        {
          "output_type": "stream",
          "name": "stdout",
          "text": [
            "Processing pathway: hsa00410 beta-Alanine metabolism \n"
          ]
        },
        {
          "output_type": "stream",
          "name": "stderr",
          "text": [
            "'select()' returned 1:1 mapping between keys and columns\n",
            "\n"
          ]
        },
        {
          "output_type": "stream",
          "name": "stdout",
          "text": [
            "Processing pathway: hsa00260 Glycine, serine and threonine metabolism \n"
          ]
        },
        {
          "output_type": "stream",
          "name": "stderr",
          "text": [
            "'select()' returned 1:1 mapping between keys and columns\n",
            "\n"
          ]
        },
        {
          "output_type": "stream",
          "name": "stdout",
          "text": [
            "Processing pathway: hsa00970 Aminoacyl-tRNA biosynthesis \n"
          ]
        },
        {
          "output_type": "stream",
          "name": "stderr",
          "text": [
            "'select()' returned 1:1 mapping between keys and columns\n",
            "\n"
          ]
        },
        {
          "output_type": "stream",
          "name": "stdout",
          "text": [
            "Processing pathway: hsa04810 Regulation of actin cytoskeleton \n"
          ]
        },
        {
          "output_type": "stream",
          "name": "stderr",
          "text": [
            "'select()' returned 1:1 mapping between keys and columns\n",
            "\n"
          ]
        },
        {
          "output_type": "stream",
          "name": "stdout",
          "text": [
            "Processing pathway: hsa04912 GnRH signaling pathway \n"
          ]
        },
        {
          "output_type": "stream",
          "name": "stderr",
          "text": [
            "'select()' returned 1:1 mapping between keys and columns\n",
            "\n"
          ]
        },
        {
          "output_type": "stream",
          "name": "stdout",
          "text": [
            "Processing pathway: hsa04740 Olfactory transduction \n"
          ]
        },
        {
          "output_type": "stream",
          "name": "stderr",
          "text": [
            "'select()' returned 1:1 mapping between keys and columns\n",
            "\n"
          ]
        },
        {
          "output_type": "stream",
          "name": "stdout",
          "text": [
            "Processing pathway: hsa04020 Calcium signaling pathway \n"
          ]
        },
        {
          "output_type": "stream",
          "name": "stderr",
          "text": [
            "'select()' returned 1:1 mapping between keys and columns\n",
            "\n"
          ]
        },
        {
          "output_type": "stream",
          "name": "stdout",
          "text": [
            "Processing pathway: hsa03430 Mismatch repair \n"
          ]
        },
        {
          "output_type": "stream",
          "name": "stderr",
          "text": [
            "'select()' returned 1:1 mapping between keys and columns\n",
            "\n"
          ]
        },
        {
          "output_type": "stream",
          "name": "stdout",
          "text": [
            "Processing pathway: hsa00020 Citrate cycle (TCA cycle) \n"
          ]
        },
        {
          "output_type": "stream",
          "name": "stderr",
          "text": [
            "'select()' returned 1:1 mapping between keys and columns\n",
            "\n"
          ]
        },
        {
          "output_type": "stream",
          "name": "stdout",
          "text": [
            "Processing pathway: hsa04310 Wnt signaling pathway \n"
          ]
        },
        {
          "output_type": "stream",
          "name": "stderr",
          "text": [
            "'select()' returned 1:1 mapping between keys and columns\n",
            "\n"
          ]
        },
        {
          "output_type": "stream",
          "name": "stdout",
          "text": [
            "Processing pathway: hsa00740 Riboflavin metabolism \n"
          ]
        },
        {
          "output_type": "stream",
          "name": "stderr",
          "text": [
            "'select()' returned 1:1 mapping between keys and columns\n",
            "\n"
          ]
        },
        {
          "output_type": "stream",
          "name": "stdout",
          "text": [
            "Processing pathway: hsa00534 Glycosaminoglycan biosynthesis - heparan sulfate \n"
          ]
        },
        {
          "output_type": "stream",
          "name": "stderr",
          "text": [
            "'select()' returned 1:1 mapping between keys and columns\n",
            "\n"
          ]
        },
        {
          "output_type": "stream",
          "name": "stdout",
          "text": [
            "Processing pathway: hsa00280 Valine, leucine and isoleucine degradation \n"
          ]
        },
        {
          "output_type": "stream",
          "name": "stderr",
          "text": [
            "'select()' returned 1:1 mapping between keys and columns\n",
            "\n"
          ]
        },
        {
          "output_type": "stream",
          "name": "stdout",
          "text": [
            "Processing pathway: hsa03018 RNA degradation \n"
          ]
        },
        {
          "output_type": "stream",
          "name": "stderr",
          "text": [
            "'select()' returned 1:1 mapping between keys and columns\n",
            "\n"
          ]
        },
        {
          "output_type": "stream",
          "name": "stdout",
          "text": [
            "Processing pathway: hsa04360 Axon guidance \n"
          ]
        },
        {
          "output_type": "stream",
          "name": "stderr",
          "text": [
            "'select()' returned 1:1 mapping between keys and columns\n",
            "\n"
          ]
        },
        {
          "output_type": "stream",
          "name": "stdout",
          "text": [
            "Processing pathway: hsa03320 PPAR signaling pathway \n"
          ]
        },
        {
          "output_type": "stream",
          "name": "stderr",
          "text": [
            "'select()' returned 1:1 mapping between keys and columns\n",
            "\n"
          ]
        },
        {
          "output_type": "stream",
          "name": "stdout",
          "text": [
            "Processing pathway: hsa03013 RNA transport \n"
          ]
        },
        {
          "output_type": "stream",
          "name": "stderr",
          "text": [
            "'select()' returned 1:1 mapping between keys and columns\n",
            "\n"
          ]
        },
        {
          "output_type": "stream",
          "name": "stdout",
          "text": [
            "Processing pathway: hsa00310 Lysine degradation \n"
          ]
        },
        {
          "output_type": "stream",
          "name": "stderr",
          "text": [
            "'select()' returned 1:1 mapping between keys and columns\n",
            "\n"
          ]
        },
        {
          "output_type": "stream",
          "name": "stdout",
          "text": [
            "Processing pathway: hsa03008 Ribosome biogenesis in eukaryotes \n"
          ]
        },
        {
          "output_type": "stream",
          "name": "stderr",
          "text": [
            "'select()' returned 1:1 mapping between keys and columns\n",
            "\n"
          ]
        },
        {
          "output_type": "stream",
          "name": "stdout",
          "text": [
            "Processing pathway: hsa04114 Oocyte meiosis \n"
          ]
        },
        {
          "output_type": "stream",
          "name": "stderr",
          "text": [
            "'select()' returned 1:1 mapping between keys and columns\n",
            "\n"
          ]
        },
        {
          "output_type": "stream",
          "name": "stdout",
          "text": [
            "Processing pathway: hsa04910 Insulin signaling pathway \n"
          ]
        },
        {
          "output_type": "stream",
          "name": "stderr",
          "text": [
            "'select()' returned 1:1 mapping between keys and columns\n",
            "\n"
          ]
        },
        {
          "output_type": "stream",
          "name": "stdout",
          "text": [
            "Processing pathway: hsa04012 ErbB signaling pathway \n"
          ]
        },
        {
          "output_type": "stream",
          "name": "stderr",
          "text": [
            "'select()' returned 1:1 mapping between keys and columns\n",
            "\n"
          ]
        },
        {
          "output_type": "stream",
          "name": "stdout",
          "text": [
            "Processing pathway: hsa00620 Pyruvate metabolism \n"
          ]
        },
        {
          "output_type": "stream",
          "name": "stderr",
          "text": [
            "'select()' returned 1:1 mapping between keys and columns\n",
            "\n"
          ]
        },
        {
          "output_type": "stream",
          "name": "stdout",
          "text": [
            "Processing pathway: hsa03022 Basal transcription factors \n"
          ]
        },
        {
          "output_type": "stream",
          "name": "stderr",
          "text": [
            "'select()' returned 1:1 mapping between keys and columns\n",
            "\n"
          ]
        },
        {
          "output_type": "stream",
          "name": "stdout",
          "text": [
            "Processing pathway: hsa04720 Long-term potentiation \n"
          ]
        },
        {
          "output_type": "stream",
          "name": "stderr",
          "text": [
            "'select()' returned 1:1 mapping between keys and columns\n",
            "\n"
          ]
        },
        {
          "output_type": "stream",
          "name": "stdout",
          "text": [
            "Processing pathway: hsa00630 Glyoxylate and dicarboxylate metabolism \n"
          ]
        },
        {
          "output_type": "stream",
          "name": "stderr",
          "text": [
            "'select()' returned 1:1 mapping between keys and columns\n",
            "\n"
          ]
        },
        {
          "output_type": "stream",
          "name": "stdout",
          "text": [
            "Processing pathway: hsa04144 Endocytosis \n"
          ]
        },
        {
          "output_type": "stream",
          "name": "stderr",
          "text": [
            "'select()' returned 1:1 mapping between keys and columns\n",
            "\n"
          ]
        },
        {
          "output_type": "stream",
          "name": "stdout",
          "text": [
            "Processing pathway: hsa00563 Glycosylphosphatidylinositol(GPI)-anchor biosynthesis \n"
          ]
        },
        {
          "output_type": "stream",
          "name": "stderr",
          "text": [
            "'select()' returned 1:1 mapping between keys and columns\n",
            "\n"
          ]
        },
        {
          "output_type": "stream",
          "name": "stdout",
          "text": [
            "Processing pathway: hsa03010 Ribosome \n"
          ]
        },
        {
          "output_type": "stream",
          "name": "stderr",
          "text": [
            "'select()' returned 1:1 mapping between keys and columns\n",
            "\n"
          ]
        },
        {
          "output_type": "stream",
          "name": "stdout",
          "text": [
            "Processing pathway: hsa04520 Adherens junction \n"
          ]
        },
        {
          "output_type": "stream",
          "name": "stderr",
          "text": [
            "'select()' returned 1:1 mapping between keys and columns\n",
            "\n"
          ]
        },
        {
          "output_type": "stream",
          "name": "stdout",
          "text": [
            "Processing pathway: hsa04916 Melanogenesis \n"
          ]
        },
        {
          "output_type": "stream",
          "name": "stderr",
          "text": [
            "'select()' returned 1:1 mapping between keys and columns\n",
            "\n"
          ]
        },
        {
          "output_type": "stream",
          "name": "stdout",
          "text": [
            "Processing pathway: hsa00900 Terpenoid backbone biosynthesis \n"
          ]
        },
        {
          "output_type": "stream",
          "name": "stderr",
          "text": [
            "'select()' returned 1:1 mapping between keys and columns\n",
            "\n"
          ]
        },
        {
          "output_type": "stream",
          "name": "stdout",
          "text": [
            "Processing pathway: hsa01040 Biosynthesis of unsaturated fatty acids \n"
          ]
        },
        {
          "output_type": "stream",
          "name": "stderr",
          "text": [
            "'select()' returned 1:1 mapping between keys and columns\n",
            "\n"
          ]
        },
        {
          "output_type": "stream",
          "name": "stdout",
          "text": [
            "Processing pathway: hsa00640 Propanoate metabolism \n"
          ]
        },
        {
          "output_type": "stream",
          "name": "stderr",
          "text": [
            "'select()' returned 1:1 mapping between keys and columns\n",
            "\n"
          ]
        },
        {
          "output_type": "stream",
          "name": "stdout",
          "text": [
            "Processing pathway: hsa04320 Dorso-ventral axis formation \n"
          ]
        },
        {
          "output_type": "stream",
          "name": "stderr",
          "text": [
            "'select()' returned 1:1 mapping between keys and columns\n",
            "\n"
          ]
        },
        {
          "output_type": "stream",
          "name": "stdout",
          "text": [
            "Processing pathway: hsa00910 Nitrogen metabolism \n"
          ]
        },
        {
          "output_type": "stream",
          "name": "stderr",
          "text": [
            "'select()' returned 1:1 mapping between keys and columns\n",
            "\n"
          ]
        },
        {
          "output_type": "stream",
          "name": "stdout",
          "text": [
            "Processing pathway: hsa04970 Salivary secretion \n"
          ]
        },
        {
          "output_type": "stream",
          "name": "stderr",
          "text": [
            "'select()' returned 1:1 mapping between keys and columns\n",
            "\n"
          ]
        },
        {
          "output_type": "stream",
          "name": "stdout",
          "text": [
            "Processing pathway: hsa04120 Ubiquitin mediated proteolysis \n"
          ]
        },
        {
          "output_type": "stream",
          "name": "stderr",
          "text": [
            "'select()' returned 1:1 mapping between keys and columns\n",
            "\n"
          ]
        },
        {
          "output_type": "stream",
          "name": "stdout",
          "text": [
            "Processing pathway: hsa03040 Spliceosome \n"
          ]
        },
        {
          "output_type": "stream",
          "name": "stderr",
          "text": [
            "'select()' returned 1:1 mapping between keys and columns\n",
            "\n"
          ]
        },
        {
          "output_type": "stream",
          "name": "stdout",
          "text": [
            "Processing pathway: hsa03420 Nucleotide excision repair \n"
          ]
        },
        {
          "output_type": "stream",
          "name": "stderr",
          "text": [
            "'select()' returned 1:1 mapping between keys and columns\n",
            "\n"
          ]
        },
        {
          "output_type": "stream",
          "name": "stdout",
          "text": [
            "Processing pathway: hsa04146 Peroxisome \n"
          ]
        },
        {
          "output_type": "stream",
          "name": "stderr",
          "text": [
            "'select()' returned 1:1 mapping between keys and columns\n",
            "\n"
          ]
        },
        {
          "output_type": "stream",
          "name": "stdout",
          "text": [
            "Processing pathway: hsa00071 Fatty acid metabolism \n"
          ]
        },
        {
          "output_type": "stream",
          "name": "stderr",
          "text": [
            "'select()' returned 1:1 mapping between keys and columns\n",
            "\n"
          ]
        },
        {
          "output_type": "stream",
          "name": "stdout",
          "text": [
            "Processing pathway: hsa03015 mRNA surveillance pathway \n"
          ]
        },
        {
          "output_type": "stream",
          "name": "stderr",
          "text": [
            "'select()' returned 1:1 mapping between keys and columns\n",
            "\n"
          ]
        },
        {
          "output_type": "stream",
          "name": "stdout",
          "text": [
            "Processing pathway: hsa04976 Bile secretion \n"
          ]
        },
        {
          "output_type": "stream",
          "name": "stderr",
          "text": [
            "'select()' returned 1:1 mapping between keys and columns\n",
            "\n"
          ]
        },
        {
          "output_type": "stream",
          "name": "stdout",
          "text": [
            "Processing pathway: hsa04742 Taste transduction \n"
          ]
        },
        {
          "output_type": "stream",
          "name": "stderr",
          "text": [
            "'select()' returned 1:1 mapping between keys and columns\n",
            "\n"
          ]
        },
        {
          "output_type": "stream",
          "name": "stdout",
          "text": [
            "Processing pathway: hsa04710 Circadian rhythm - mammal \n"
          ]
        },
        {
          "output_type": "stream",
          "name": "stderr",
          "text": [
            "'select()' returned 1:1 mapping between keys and columns\n",
            "\n"
          ]
        },
        {
          "output_type": "stream",
          "name": "stdout",
          "text": [
            "Processing pathway: hsa04920 Adipocytokine signaling pathway \n"
          ]
        },
        {
          "output_type": "stream",
          "name": "stderr",
          "text": [
            "'select()' returned 1:1 mapping between keys and columns\n",
            "\n"
          ]
        },
        {
          "output_type": "stream",
          "name": "stdout",
          "text": [
            "Processing pathway: hsa04530 Tight junction \n"
          ]
        },
        {
          "output_type": "stream",
          "name": "stderr",
          "text": [
            "'select()' returned 1:1 mapping between keys and columns\n",
            "\n"
          ]
        },
        {
          "output_type": "stream",
          "name": "stdout",
          "text": [
            "Processing pathway: hsa00232 Caffeine metabolism \n"
          ]
        },
        {
          "output_type": "stream",
          "name": "stderr",
          "text": [
            "'select()' returned 1:1 mapping between keys and columns\n",
            "\n"
          ]
        },
        {
          "output_type": "stream",
          "name": "stdout",
          "text": [
            "Processing pathway: hsa00300 Lysine biosynthesis \n"
          ]
        },
        {
          "output_type": "stream",
          "name": "stderr",
          "text": [
            "'select()' returned 1:1 mapping between keys and columns\n",
            "\n"
          ]
        },
        {
          "output_type": "stream",
          "name": "stdout",
          "text": [
            "Processing pathway: hsa00130 Ubiquinone and other terpenoid-quinone biosynthesis \n"
          ]
        },
        {
          "output_type": "stream",
          "name": "stderr",
          "text": [
            "'select()' returned 1:1 mapping between keys and columns\n",
            "\n"
          ]
        },
        {
          "output_type": "stream",
          "name": "stdout",
          "text": [
            "Processing pathway: hsa00430 Taurine and hypotaurine metabolism \n"
          ]
        },
        {
          "output_type": "stream",
          "name": "stderr",
          "text": [
            "'select()' returned 1:1 mapping between keys and columns\n",
            "\n"
          ]
        },
        {
          "output_type": "stream",
          "name": "stdout",
          "text": [
            "Processing pathway: hsa00785 Lipoic acid metabolism \n"
          ]
        },
        {
          "output_type": "stream",
          "name": "stderr",
          "text": [
            "'select()' returned 1:1 mapping between keys and columns\n",
            "\n"
          ]
        },
        {
          "output_type": "stream",
          "name": "stdout",
          "text": [
            "Processing pathway: hsa00460 Cyanoamino acid metabolism \n"
          ]
        },
        {
          "output_type": "stream",
          "name": "stderr",
          "text": [
            "'select()' returned 1:1 mapping between keys and columns\n",
            "\n"
          ]
        },
        {
          "output_type": "stream",
          "name": "stdout",
          "text": [
            "Processing pathway: hsa00472 D-Arginine and D-ornithine metabolism \n",
            "Processing pathway: hsa00360 Phenylalanine metabolism \n"
          ]
        },
        {
          "output_type": "stream",
          "name": "stderr",
          "text": [
            "'select()' returned 1:1 mapping between keys and columns\n",
            "\n"
          ]
        },
        {
          "output_type": "stream",
          "name": "stdout",
          "text": [
            "Processing pathway: hsa00790 Folate biosynthesis \n"
          ]
        },
        {
          "output_type": "stream",
          "name": "stderr",
          "text": [
            "'select()' returned 1:1 mapping between keys and columns\n",
            "\n"
          ]
        },
        {
          "output_type": "stream",
          "name": "stdout",
          "text": [
            "Processing pathway: hsa00061 Fatty acid biosynthesis \n"
          ]
        },
        {
          "output_type": "stream",
          "name": "stderr",
          "text": [
            "'select()' returned 1:1 mapping between keys and columns\n",
            "\n"
          ]
        },
        {
          "output_type": "stream",
          "name": "stdout",
          "text": [
            "Processing pathway: hsa00290 Valine, leucine and isoleucine biosynthesis \n"
          ]
        },
        {
          "output_type": "stream",
          "name": "stderr",
          "text": [
            "'select()' returned 1:1 mapping between keys and columns\n",
            "\n"
          ]
        },
        {
          "output_type": "stream",
          "name": "stdout",
          "text": [
            "Processing pathway: hsa00400 Phenylalanine, tyrosine and tryptophan biosynthesis \n"
          ]
        },
        {
          "output_type": "stream",
          "name": "stderr",
          "text": [
            "'select()' returned 1:1 mapping between keys and columns\n",
            "\n"
          ]
        },
        {
          "output_type": "stream",
          "name": "stdout",
          "text": [
            "Processing pathway: hsa00730 Thiamine metabolism \n"
          ]
        },
        {
          "output_type": "stream",
          "name": "stderr",
          "text": [
            "'select()' returned 1:1 mapping between keys and columns\n",
            "\n"
          ]
        },
        {
          "output_type": "stream",
          "name": "stdout",
          "text": [
            "Processing pathway: hsa00471 D-Glutamine and D-glutamate metabolism \n"
          ]
        },
        {
          "output_type": "stream",
          "name": "stderr",
          "text": [
            "'select()' returned 1:1 mapping between keys and columns\n",
            "\n"
          ]
        },
        {
          "output_type": "stream",
          "name": "stdout",
          "text": [
            "Processing pathway: hsa04122 Sulfur relay system \n"
          ]
        },
        {
          "output_type": "stream",
          "name": "stderr",
          "text": [
            "'select()' returned 1:1 mapping between keys and columns\n",
            "\n"
          ]
        },
        {
          "output_type": "stream",
          "name": "stdout",
          "text": [
            "Processing pathway: hsa00750 Vitamin B6 metabolism \n"
          ]
        },
        {
          "output_type": "stream",
          "name": "stderr",
          "text": [
            "'select()' returned 1:1 mapping between keys and columns\n",
            "\n"
          ]
        },
        {
          "output_type": "stream",
          "name": "stdout",
          "text": [
            "Processing pathway: hsa00780 Biotin metabolism \n"
          ]
        },
        {
          "output_type": "stream",
          "name": "stderr",
          "text": [
            "'select()' returned 1:1 mapping between keys and columns\n",
            "\n"
          ]
        },
        {
          "output_type": "stream",
          "name": "stdout",
          "text": [
            "Processing pathway: hsa00072 Synthesis and degradation of ketone bodies \n"
          ]
        },
        {
          "output_type": "stream",
          "name": "stderr",
          "text": [
            "'select()' returned 1:1 mapping between keys and columns\n",
            "\n"
          ]
        },
        {
          "output_type": "stream",
          "name": "stdout",
          "text": [
            "Processing pathway: hsa04530 Tight junction \n"
          ]
        },
        {
          "output_type": "stream",
          "name": "stderr",
          "text": [
            "'select()' returned 1:1 mapping between keys and columns\n",
            "\n"
          ]
        },
        {
          "output_type": "stream",
          "name": "stdout",
          "text": [
            "Processing pathway: hsa04920 Adipocytokine signaling pathway \n"
          ]
        },
        {
          "output_type": "stream",
          "name": "stderr",
          "text": [
            "'select()' returned 1:1 mapping between keys and columns\n",
            "\n"
          ]
        },
        {
          "output_type": "stream",
          "name": "stdout",
          "text": [
            "Processing pathway: hsa04710 Circadian rhythm - mammal \n"
          ]
        },
        {
          "output_type": "stream",
          "name": "stderr",
          "text": [
            "'select()' returned 1:1 mapping between keys and columns\n",
            "\n"
          ]
        },
        {
          "output_type": "stream",
          "name": "stdout",
          "text": [
            "Processing pathway: hsa04742 Taste transduction \n"
          ]
        },
        {
          "output_type": "stream",
          "name": "stderr",
          "text": [
            "'select()' returned 1:1 mapping between keys and columns\n",
            "\n"
          ]
        },
        {
          "output_type": "stream",
          "name": "stdout",
          "text": [
            "Processing pathway: hsa04976 Bile secretion \n"
          ]
        },
        {
          "output_type": "stream",
          "name": "stderr",
          "text": [
            "'select()' returned 1:1 mapping between keys and columns\n",
            "\n"
          ]
        },
        {
          "output_type": "stream",
          "name": "stdout",
          "text": [
            "Processing pathway: hsa03015 mRNA surveillance pathway \n"
          ]
        },
        {
          "output_type": "stream",
          "name": "stderr",
          "text": [
            "'select()' returned 1:1 mapping between keys and columns\n",
            "\n"
          ]
        },
        {
          "output_type": "stream",
          "name": "stdout",
          "text": [
            "Processing pathway: hsa00071 Fatty acid metabolism \n"
          ]
        },
        {
          "output_type": "stream",
          "name": "stderr",
          "text": [
            "'select()' returned 1:1 mapping between keys and columns\n",
            "\n"
          ]
        },
        {
          "output_type": "stream",
          "name": "stdout",
          "text": [
            "Processing pathway: hsa04146 Peroxisome \n"
          ]
        },
        {
          "output_type": "stream",
          "name": "stderr",
          "text": [
            "'select()' returned 1:1 mapping between keys and columns\n",
            "\n"
          ]
        },
        {
          "output_type": "stream",
          "name": "stdout",
          "text": [
            "Processing pathway: hsa03420 Nucleotide excision repair \n"
          ]
        },
        {
          "output_type": "stream",
          "name": "stderr",
          "text": [
            "'select()' returned 1:1 mapping between keys and columns\n",
            "\n"
          ]
        },
        {
          "output_type": "stream",
          "name": "stdout",
          "text": [
            "Processing pathway: hsa03040 Spliceosome \n"
          ]
        },
        {
          "output_type": "stream",
          "name": "stderr",
          "text": [
            "'select()' returned 1:1 mapping between keys and columns\n",
            "\n"
          ]
        },
        {
          "output_type": "stream",
          "name": "stdout",
          "text": [
            "Processing pathway: hsa04120 Ubiquitin mediated proteolysis \n"
          ]
        },
        {
          "output_type": "stream",
          "name": "stderr",
          "text": [
            "'select()' returned 1:1 mapping between keys and columns\n",
            "\n"
          ]
        },
        {
          "output_type": "stream",
          "name": "stdout",
          "text": [
            "Processing pathway: hsa04970 Salivary secretion \n"
          ]
        },
        {
          "output_type": "stream",
          "name": "stderr",
          "text": [
            "'select()' returned 1:1 mapping between keys and columns\n",
            "\n"
          ]
        },
        {
          "output_type": "stream",
          "name": "stdout",
          "text": [
            "Processing pathway: hsa00910 Nitrogen metabolism \n"
          ]
        },
        {
          "output_type": "stream",
          "name": "stderr",
          "text": [
            "'select()' returned 1:1 mapping between keys and columns\n",
            "\n"
          ]
        },
        {
          "output_type": "stream",
          "name": "stdout",
          "text": [
            "Processing pathway: hsa04320 Dorso-ventral axis formation \n"
          ]
        },
        {
          "output_type": "stream",
          "name": "stderr",
          "text": [
            "'select()' returned 1:1 mapping between keys and columns\n",
            "\n"
          ]
        },
        {
          "output_type": "stream",
          "name": "stdout",
          "text": [
            "Processing pathway: hsa00640 Propanoate metabolism \n"
          ]
        },
        {
          "output_type": "stream",
          "name": "stderr",
          "text": [
            "'select()' returned 1:1 mapping between keys and columns\n",
            "\n"
          ]
        },
        {
          "output_type": "stream",
          "name": "stdout",
          "text": [
            "Processing pathway: hsa01040 Biosynthesis of unsaturated fatty acids \n"
          ]
        },
        {
          "output_type": "stream",
          "name": "stderr",
          "text": [
            "'select()' returned 1:1 mapping between keys and columns\n",
            "\n"
          ]
        },
        {
          "output_type": "stream",
          "name": "stdout",
          "text": [
            "Processing pathway: hsa00900 Terpenoid backbone biosynthesis \n"
          ]
        },
        {
          "output_type": "stream",
          "name": "stderr",
          "text": [
            "'select()' returned 1:1 mapping between keys and columns\n",
            "\n"
          ]
        },
        {
          "output_type": "stream",
          "name": "stdout",
          "text": [
            "Processing pathway: hsa04916 Melanogenesis \n"
          ]
        },
        {
          "output_type": "stream",
          "name": "stderr",
          "text": [
            "'select()' returned 1:1 mapping between keys and columns\n",
            "\n"
          ]
        },
        {
          "output_type": "stream",
          "name": "stdout",
          "text": [
            "Processing pathway: hsa04520 Adherens junction \n"
          ]
        },
        {
          "output_type": "stream",
          "name": "stderr",
          "text": [
            "'select()' returned 1:1 mapping between keys and columns\n",
            "\n"
          ]
        },
        {
          "output_type": "stream",
          "name": "stdout",
          "text": [
            "Processing pathway: hsa03010 Ribosome \n"
          ]
        },
        {
          "output_type": "stream",
          "name": "stderr",
          "text": [
            "'select()' returned 1:1 mapping between keys and columns\n",
            "\n"
          ]
        },
        {
          "output_type": "stream",
          "name": "stdout",
          "text": [
            "Processing pathway: hsa00563 Glycosylphosphatidylinositol(GPI)-anchor biosynthesis \n"
          ]
        },
        {
          "output_type": "stream",
          "name": "stderr",
          "text": [
            "'select()' returned 1:1 mapping between keys and columns\n",
            "\n"
          ]
        },
        {
          "output_type": "stream",
          "name": "stdout",
          "text": [
            "Processing pathway: hsa04144 Endocytosis \n"
          ]
        },
        {
          "output_type": "stream",
          "name": "stderr",
          "text": [
            "'select()' returned 1:1 mapping between keys and columns\n",
            "\n"
          ]
        },
        {
          "output_type": "stream",
          "name": "stdout",
          "text": [
            "Processing pathway: hsa00630 Glyoxylate and dicarboxylate metabolism \n"
          ]
        },
        {
          "output_type": "stream",
          "name": "stderr",
          "text": [
            "'select()' returned 1:1 mapping between keys and columns\n",
            "\n"
          ]
        },
        {
          "output_type": "stream",
          "name": "stdout",
          "text": [
            "Processing pathway: hsa04720 Long-term potentiation \n"
          ]
        },
        {
          "output_type": "stream",
          "name": "stderr",
          "text": [
            "'select()' returned 1:1 mapping between keys and columns\n",
            "\n"
          ]
        },
        {
          "output_type": "stream",
          "name": "stdout",
          "text": [
            "Processing pathway: hsa03022 Basal transcription factors \n"
          ]
        },
        {
          "output_type": "stream",
          "name": "stderr",
          "text": [
            "'select()' returned 1:1 mapping between keys and columns\n",
            "\n"
          ]
        },
        {
          "output_type": "stream",
          "name": "stdout",
          "text": [
            "Processing pathway: hsa00620 Pyruvate metabolism \n"
          ]
        },
        {
          "output_type": "stream",
          "name": "stderr",
          "text": [
            "'select()' returned 1:1 mapping between keys and columns\n",
            "\n"
          ]
        },
        {
          "output_type": "stream",
          "name": "stdout",
          "text": [
            "Processing pathway: hsa04012 ErbB signaling pathway \n"
          ]
        },
        {
          "output_type": "stream",
          "name": "stderr",
          "text": [
            "'select()' returned 1:1 mapping between keys and columns\n",
            "\n"
          ]
        },
        {
          "output_type": "stream",
          "name": "stdout",
          "text": [
            "Processing pathway: hsa04910 Insulin signaling pathway \n"
          ]
        },
        {
          "output_type": "stream",
          "name": "stderr",
          "text": [
            "'select()' returned 1:1 mapping between keys and columns\n",
            "\n"
          ]
        },
        {
          "output_type": "stream",
          "name": "stdout",
          "text": [
            "Processing pathway: hsa04114 Oocyte meiosis \n"
          ]
        },
        {
          "output_type": "stream",
          "name": "stderr",
          "text": [
            "'select()' returned 1:1 mapping between keys and columns\n",
            "\n"
          ]
        },
        {
          "output_type": "stream",
          "name": "stdout",
          "text": [
            "Processing pathway: hsa03008 Ribosome biogenesis in eukaryotes \n"
          ]
        },
        {
          "output_type": "stream",
          "name": "stderr",
          "text": [
            "'select()' returned 1:1 mapping between keys and columns\n",
            "\n"
          ]
        },
        {
          "output_type": "stream",
          "name": "stdout",
          "text": [
            "Processing pathway: hsa00310 Lysine degradation \n"
          ]
        },
        {
          "output_type": "stream",
          "name": "stderr",
          "text": [
            "'select()' returned 1:1 mapping between keys and columns\n",
            "\n"
          ]
        },
        {
          "output_type": "stream",
          "name": "stdout",
          "text": [
            "Processing pathway: hsa03013 RNA transport \n"
          ]
        },
        {
          "output_type": "stream",
          "name": "stderr",
          "text": [
            "'select()' returned 1:1 mapping between keys and columns\n",
            "\n"
          ]
        },
        {
          "output_type": "stream",
          "name": "stdout",
          "text": [
            "Processing pathway: hsa03320 PPAR signaling pathway \n"
          ]
        },
        {
          "output_type": "stream",
          "name": "stderr",
          "text": [
            "'select()' returned 1:1 mapping between keys and columns\n",
            "\n"
          ]
        },
        {
          "output_type": "stream",
          "name": "stdout",
          "text": [
            "Processing pathway: hsa04360 Axon guidance \n"
          ]
        },
        {
          "output_type": "stream",
          "name": "stderr",
          "text": [
            "'select()' returned 1:1 mapping between keys and columns\n",
            "\n"
          ]
        },
        {
          "output_type": "stream",
          "name": "stdout",
          "text": [
            "Processing pathway: hsa03018 RNA degradation \n"
          ]
        },
        {
          "output_type": "stream",
          "name": "stderr",
          "text": [
            "'select()' returned 1:1 mapping between keys and columns\n",
            "\n"
          ]
        },
        {
          "output_type": "stream",
          "name": "stdout",
          "text": [
            "Processing pathway: hsa00280 Valine, leucine and isoleucine degradation \n"
          ]
        },
        {
          "output_type": "stream",
          "name": "stderr",
          "text": [
            "'select()' returned 1:1 mapping between keys and columns\n",
            "\n"
          ]
        },
        {
          "output_type": "stream",
          "name": "stdout",
          "text": [
            "Processing pathway: hsa00534 Glycosaminoglycan biosynthesis - heparan sulfate \n"
          ]
        },
        {
          "output_type": "stream",
          "name": "stderr",
          "text": [
            "'select()' returned 1:1 mapping between keys and columns\n",
            "\n"
          ]
        },
        {
          "output_type": "stream",
          "name": "stdout",
          "text": [
            "Processing pathway: hsa00740 Riboflavin metabolism \n"
          ]
        },
        {
          "output_type": "stream",
          "name": "stderr",
          "text": [
            "'select()' returned 1:1 mapping between keys and columns\n",
            "\n"
          ]
        },
        {
          "output_type": "stream",
          "name": "stdout",
          "text": [
            "Processing pathway: hsa04310 Wnt signaling pathway \n"
          ]
        },
        {
          "output_type": "stream",
          "name": "stderr",
          "text": [
            "'select()' returned 1:1 mapping between keys and columns\n",
            "\n"
          ]
        },
        {
          "output_type": "stream",
          "name": "stdout",
          "text": [
            "Processing pathway: hsa00020 Citrate cycle (TCA cycle) \n"
          ]
        },
        {
          "output_type": "stream",
          "name": "stderr",
          "text": [
            "'select()' returned 1:1 mapping between keys and columns\n",
            "\n"
          ]
        },
        {
          "output_type": "stream",
          "name": "stdout",
          "text": [
            "Processing pathway: hsa03430 Mismatch repair \n"
          ]
        },
        {
          "output_type": "stream",
          "name": "stderr",
          "text": [
            "'select()' returned 1:1 mapping between keys and columns\n",
            "\n"
          ]
        },
        {
          "output_type": "stream",
          "name": "stdout",
          "text": [
            "Processing pathway: hsa04020 Calcium signaling pathway \n"
          ]
        },
        {
          "output_type": "stream",
          "name": "stderr",
          "text": [
            "'select()' returned 1:1 mapping between keys and columns\n",
            "\n"
          ]
        },
        {
          "output_type": "stream",
          "name": "stdout",
          "text": [
            "Processing pathway: hsa04740 Olfactory transduction \n"
          ]
        },
        {
          "output_type": "stream",
          "name": "stderr",
          "text": [
            "'select()' returned 1:1 mapping between keys and columns\n",
            "\n"
          ]
        },
        {
          "output_type": "stream",
          "name": "stdout",
          "text": [
            "Processing pathway: hsa04912 GnRH signaling pathway \n"
          ]
        },
        {
          "output_type": "stream",
          "name": "stderr",
          "text": [
            "'select()' returned 1:1 mapping between keys and columns\n",
            "\n"
          ]
        },
        {
          "output_type": "stream",
          "name": "stdout",
          "text": [
            "Processing pathway: hsa04810 Regulation of actin cytoskeleton \n"
          ]
        },
        {
          "output_type": "stream",
          "name": "stderr",
          "text": [
            "'select()' returned 1:1 mapping between keys and columns\n",
            "\n"
          ]
        },
        {
          "output_type": "stream",
          "name": "stdout",
          "text": [
            "Processing pathway: hsa00970 Aminoacyl-tRNA biosynthesis \n"
          ]
        },
        {
          "output_type": "stream",
          "name": "stderr",
          "text": [
            "'select()' returned 1:1 mapping between keys and columns\n",
            "\n"
          ]
        },
        {
          "output_type": "stream",
          "name": "stdout",
          "text": [
            "Processing pathway: hsa00260 Glycine, serine and threonine metabolism \n"
          ]
        },
        {
          "output_type": "stream",
          "name": "stderr",
          "text": [
            "'select()' returned 1:1 mapping between keys and columns\n",
            "\n"
          ]
        },
        {
          "output_type": "stream",
          "name": "stdout",
          "text": [
            "Processing pathway: hsa00410 beta-Alanine metabolism \n"
          ]
        },
        {
          "output_type": "stream",
          "name": "stderr",
          "text": [
            "'select()' returned 1:1 mapping between keys and columns\n",
            "\n"
          ]
        },
        {
          "output_type": "stream",
          "name": "stdout",
          "text": [
            "Processing pathway: hsa03440 Homologous recombination \n"
          ]
        },
        {
          "output_type": "stream",
          "name": "stderr",
          "text": [
            "'select()' returned 1:1 mapping between keys and columns\n",
            "\n"
          ]
        },
        {
          "output_type": "stream",
          "name": "stdout",
          "text": [
            "Processing pathway: hsa00100 Steroid biosynthesis \n"
          ]
        },
        {
          "output_type": "stream",
          "name": "stderr",
          "text": [
            "'select()' returned 1:1 mapping between keys and columns\n",
            "\n"
          ]
        },
        {
          "output_type": "stream",
          "name": "stdout",
          "text": [
            "Processing pathway: hsa04340 Hedgehog signaling pathway \n"
          ]
        },
        {
          "output_type": "stream",
          "name": "stderr",
          "text": [
            "'select()' returned 1:1 mapping between keys and columns\n",
            "\n"
          ]
        },
        {
          "output_type": "stream",
          "name": "stdout",
          "text": [
            "Processing pathway: hsa03030 DNA replication \n"
          ]
        },
        {
          "output_type": "stream",
          "name": "stderr",
          "text": [
            "'select()' returned 1:1 mapping between keys and columns\n",
            "\n"
          ]
        },
        {
          "output_type": "stream",
          "name": "stdout",
          "text": [
            "Processing pathway: hsa04260 Cardiac muscle contraction \n"
          ]
        },
        {
          "output_type": "stream",
          "name": "stderr",
          "text": [
            "'select()' returned 1:1 mapping between keys and columns\n",
            "\n"
          ]
        },
        {
          "output_type": "stream",
          "name": "stdout",
          "text": [
            "Processing pathway: hsa03410 Base excision repair \n"
          ]
        },
        {
          "output_type": "stream",
          "name": "stderr",
          "text": [
            "'select()' returned 1:1 mapping between keys and columns\n",
            "\n"
          ]
        },
        {
          "output_type": "stream",
          "name": "stdout",
          "text": [
            "Processing pathway: hsa04744 Phototransduction \n"
          ]
        },
        {
          "output_type": "stream",
          "name": "stderr",
          "text": [
            "'select()' returned 1:1 mapping between keys and columns\n",
            "\n"
          ]
        },
        {
          "output_type": "stream",
          "name": "stdout",
          "text": [
            "Processing pathway: hsa00600 Sphingolipid metabolism \n"
          ]
        },
        {
          "output_type": "stream",
          "name": "stderr",
          "text": [
            "'select()' returned 1:1 mapping between keys and columns\n",
            "\n"
          ]
        },
        {
          "output_type": "stream",
          "name": "stdout",
          "text": [
            "Processing pathway: hsa00010 Glycolysis / Gluconeogenesis \n"
          ]
        },
        {
          "output_type": "stream",
          "name": "stderr",
          "text": [
            "'select()' returned 1:1 mapping between keys and columns\n",
            "\n"
          ]
        },
        {
          "output_type": "stream",
          "name": "stdout",
          "text": [
            "Processing pathway: hsa04540 Gap junction \n"
          ]
        },
        {
          "output_type": "stream",
          "name": "stderr",
          "text": [
            "'select()' returned 1:1 mapping between keys and columns\n",
            "\n"
          ]
        },
        {
          "output_type": "stream",
          "name": "stdout",
          "text": [
            "Processing pathway: hsa03020 RNA polymerase \n"
          ]
        },
        {
          "output_type": "stream",
          "name": "stderr",
          "text": [
            "'select()' returned 1:1 mapping between keys and columns\n",
            "\n"
          ]
        },
        {
          "output_type": "stream",
          "name": "stdout",
          "text": [
            "Processing pathway: hsa04722 Neurotrophin signaling pathway \n"
          ]
        },
        {
          "output_type": "stream",
          "name": "stderr",
          "text": [
            "'select()' returned 1:1 mapping between keys and columns\n",
            "\n"
          ]
        },
        {
          "output_type": "stream",
          "name": "stdout",
          "text": [
            "Processing pathway: hsa00561 Glycerolipid metabolism \n"
          ]
        },
        {
          "output_type": "stream",
          "name": "stderr",
          "text": [
            "'select()' returned 1:1 mapping between keys and columns\n",
            "\n"
          ]
        },
        {
          "output_type": "stream",
          "name": "stdout",
          "text": [
            "Processing pathway: hsa00601 Glycosphingolipid biosynthesis - lacto and neolacto series \n"
          ]
        },
        {
          "output_type": "stream",
          "name": "stderr",
          "text": [
            "'select()' returned 1:1 mapping between keys and columns\n",
            "\n"
          ]
        },
        {
          "output_type": "stream",
          "name": "stdout",
          "text": [
            "Processing pathway: hsa04962 Vasopressin-regulated water reabsorption \n"
          ]
        },
        {
          "output_type": "stream",
          "name": "stderr",
          "text": [
            "'select()' returned 1:1 mapping between keys and columns\n",
            "\n"
          ]
        },
        {
          "output_type": "stream",
          "name": "stdout",
          "text": [
            "Processing pathway: hsa02010 ABC transporters \n"
          ]
        },
        {
          "output_type": "stream",
          "name": "stderr",
          "text": [
            "'select()' returned 1:1 mapping between keys and columns\n",
            "\n"
          ]
        },
        {
          "output_type": "stream",
          "name": "stdout",
          "text": [
            "Processing pathway: hsa04971 Gastric acid secretion \n"
          ]
        },
        {
          "output_type": "stream",
          "name": "stderr",
          "text": [
            "'select()' returned 1:1 mapping between keys and columns\n",
            "\n"
          ]
        },
        {
          "output_type": "stream",
          "name": "stdout",
          "text": [
            "Processing pathway: hsa04964 Proximal tubule bicarbonate reclamation \n"
          ]
        },
        {
          "output_type": "stream",
          "name": "stderr",
          "text": [
            "'select()' returned 1:1 mapping between keys and columns\n",
            "\n"
          ]
        },
        {
          "output_type": "stream",
          "name": "stdout",
          "text": [
            "Processing pathway: hsa00250 Alanine, aspartate and glutamate metabolism \n"
          ]
        },
        {
          "output_type": "stream",
          "name": "stderr",
          "text": [
            "'select()' returned 1:1 mapping between keys and columns\n",
            "\n"
          ]
        },
        {
          "output_type": "stream",
          "name": "stdout",
          "text": [
            "Processing pathway: hsa04070 Phosphatidylinositol signaling system \n"
          ]
        },
        {
          "output_type": "stream",
          "name": "stderr",
          "text": [
            "'select()' returned 1:1 mapping between keys and columns\n",
            "\n"
          ]
        },
        {
          "output_type": "stream",
          "name": "stdout",
          "text": [
            "Processing pathway: hsa00670 One carbon pool by folate \n"
          ]
        },
        {
          "output_type": "stream",
          "name": "stderr",
          "text": [
            "'select()' returned 1:1 mapping between keys and columns\n",
            "\n"
          ]
        },
        {
          "output_type": "stream",
          "name": "stdout",
          "text": [
            "Processing pathway: hsa00650 Butanoate metabolism \n"
          ]
        },
        {
          "output_type": "stream",
          "name": "stderr",
          "text": [
            "'select()' returned 1:1 mapping between keys and columns\n",
            "\n"
          ]
        },
        {
          "output_type": "stream",
          "name": "stdout",
          "text": [
            "Processing pathway: hsa04140 Regulation of autophagy \n"
          ]
        },
        {
          "output_type": "stream",
          "name": "stderr",
          "text": [
            "'select()' returned 1:1 mapping between keys and columns\n",
            "\n"
          ]
        },
        {
          "output_type": "stream",
          "name": "stdout",
          "text": [
            "Processing pathway: hsa04330 Notch signaling pathway \n"
          ]
        },
        {
          "output_type": "stream",
          "name": "stderr",
          "text": [
            "'select()' returned 1:1 mapping between keys and columns\n",
            "\n"
          ]
        },
        {
          "output_type": "stream",
          "name": "stdout",
          "text": [
            "Processing pathway: hsa04977 Vitamin digestion and absorption \n"
          ]
        },
        {
          "output_type": "stream",
          "name": "stderr",
          "text": [
            "'select()' returned 1:1 mapping between keys and columns\n",
            "\n"
          ]
        },
        {
          "output_type": "stream",
          "name": "stdout",
          "text": [
            "Processing pathway: hsa04914 Progesterone-mediated oocyte maturation \n"
          ]
        },
        {
          "output_type": "stream",
          "name": "stderr",
          "text": [
            "'select()' returned 1:1 mapping between keys and columns\n",
            "\n"
          ]
        },
        {
          "output_type": "stream",
          "name": "stdout",
          "text": [
            "Processing pathway: hsa00350 Tyrosine metabolism \n"
          ]
        },
        {
          "output_type": "stream",
          "name": "stderr",
          "text": [
            "'select()' returned 1:1 mapping between keys and columns\n",
            "\n"
          ]
        },
        {
          "output_type": "stream",
          "name": "stdout",
          "text": [
            "Processing pathway: hsa04130 SNARE interactions in vesicular transport \n"
          ]
        },
        {
          "output_type": "stream",
          "name": "stderr",
          "text": [
            "'select()' returned 1:1 mapping between keys and columns\n",
            "\n"
          ]
        },
        {
          "output_type": "stream",
          "name": "stdout",
          "text": [
            "Processing pathway: hsa00450 Selenocompound metabolism \n"
          ]
        },
        {
          "output_type": "stream",
          "name": "stderr",
          "text": [
            "'select()' returned 1:1 mapping between keys and columns\n",
            "\n"
          ]
        },
        {
          "output_type": "stream",
          "name": "stdout",
          "text": [
            "Processing pathway: hsa04110 Cell cycle \n"
          ]
        },
        {
          "output_type": "stream",
          "name": "stderr",
          "text": [
            "'select()' returned 1:1 mapping between keys and columns\n",
            "\n"
          ]
        },
        {
          "output_type": "stream",
          "name": "stdout",
          "text": [
            "Processing pathway: hsa00591 Linoleic acid metabolism \n"
          ]
        },
        {
          "output_type": "stream",
          "name": "stderr",
          "text": [
            "'select()' returned 1:1 mapping between keys and columns\n",
            "\n"
          ]
        },
        {
          "output_type": "stream",
          "name": "stdout",
          "text": [
            "Processing pathway: hsa04150 mTOR signaling pathway \n"
          ]
        },
        {
          "output_type": "stream",
          "name": "stderr",
          "text": [
            "'select()' returned 1:1 mapping between keys and columns\n",
            "\n"
          ]
        },
        {
          "output_type": "stream",
          "name": "stdout",
          "text": [
            "Processing pathway: hsa04972 Pancreatic secretion \n"
          ]
        },
        {
          "output_type": "stream",
          "name": "stderr",
          "text": [
            "'select()' returned 1:1 mapping between keys and columns\n",
            "\n"
          ]
        },
        {
          "output_type": "stream",
          "name": "stdout",
          "text": [
            "Processing pathway: hsa03450 Non-homologous end-joining \n"
          ]
        },
        {
          "output_type": "stream",
          "name": "stderr",
          "text": [
            "'select()' returned 1:1 mapping between keys and columns\n",
            "\n"
          ]
        },
        {
          "output_type": "stream",
          "name": "stdout",
          "text": [
            "Processing pathway: hsa04966 Collecting duct acid secretion \n"
          ]
        },
        {
          "output_type": "stream",
          "name": "stderr",
          "text": [
            "'select()' returned 1:1 mapping between keys and columns\n",
            "\n"
          ]
        },
        {
          "output_type": "stream",
          "name": "stdout",
          "text": [
            "Processing pathway: hsa00030 Pentose phosphate pathway \n"
          ]
        },
        {
          "output_type": "stream",
          "name": "stderr",
          "text": [
            "'select()' returned 1:1 mapping between keys and columns\n",
            "\n"
          ]
        },
        {
          "output_type": "stream",
          "name": "stdout",
          "text": [
            "Processing pathway: hsa04960 Aldosterone-regulated sodium reabsorption \n"
          ]
        },
        {
          "output_type": "stream",
          "name": "stderr",
          "text": [
            "'select()' returned 1:1 mapping between keys and columns\n",
            "\n"
          ]
        },
        {
          "output_type": "stream",
          "name": "stdout",
          "text": [
            "Processing pathway: hsa04270 Vascular smooth muscle contraction \n"
          ]
        },
        {
          "output_type": "stream",
          "name": "stderr",
          "text": [
            "'select()' returned 1:1 mapping between keys and columns\n",
            "\n"
          ]
        },
        {
          "output_type": "stream",
          "name": "stdout",
          "text": [
            "Processing pathway: hsa00340 Histidine metabolism \n"
          ]
        },
        {
          "output_type": "stream",
          "name": "stderr",
          "text": [
            "'select()' returned 1:1 mapping between keys and columns\n",
            "\n"
          ]
        },
        {
          "output_type": "stream",
          "name": "stdout",
          "text": [
            "Processing pathway: hsa00562 Inositol phosphate metabolism \n"
          ]
        },
        {
          "output_type": "stream",
          "name": "stderr",
          "text": [
            "'select()' returned 1:1 mapping between keys and columns\n",
            "\n"
          ]
        },
        {
          "output_type": "stream",
          "name": "stdout",
          "text": [
            "Processing pathway: hsa04350 TGF-beta signaling pathway \n"
          ]
        },
        {
          "output_type": "stream",
          "name": "stderr",
          "text": [
            "'select()' returned 1:1 mapping between keys and columns\n",
            "\n"
          ]
        },
        {
          "output_type": "stream",
          "name": "stdout",
          "text": [
            "Processing pathway: hsa00120 Primary bile acid biosynthesis \n"
          ]
        },
        {
          "output_type": "stream",
          "name": "stderr",
          "text": [
            "'select()' returned 1:1 mapping between keys and columns\n",
            "\n"
          ]
        },
        {
          "output_type": "stream",
          "name": "stdout",
          "text": [
            "Processing pathway: hsa04973 Carbohydrate digestion and absorption \n"
          ]
        },
        {
          "output_type": "stream",
          "name": "stderr",
          "text": [
            "'select()' returned 1:1 mapping between keys and columns\n",
            "\n"
          ]
        },
        {
          "output_type": "stream",
          "name": "stdout",
          "text": [
            "Processing pathway: hsa04115 p53 signaling pathway \n"
          ]
        },
        {
          "output_type": "stream",
          "name": "stderr",
          "text": [
            "'select()' returned 1:1 mapping between keys and columns\n",
            "\n"
          ]
        },
        {
          "output_type": "stream",
          "name": "stdout",
          "text": [
            "Processing pathway: hsa00564 Glycerophospholipid metabolism \n"
          ]
        },
        {
          "output_type": "stream",
          "name": "stderr",
          "text": [
            "'select()' returned 1:1 mapping between keys and columns\n",
            "\n"
          ]
        },
        {
          "output_type": "stream",
          "name": "stdout",
          "text": [
            "Processing pathway: hsa00603 Glycosphingolipid biosynthesis - globo series \n"
          ]
        },
        {
          "output_type": "stream",
          "name": "stderr",
          "text": [
            "'select()' returned 1:1 mapping between keys and columns\n",
            "\n"
          ]
        },
        {
          "output_type": "stream",
          "name": "stdout",
          "text": [
            "Processing pathway: hsa00190 Oxidative phosphorylation \n"
          ]
        },
        {
          "output_type": "stream",
          "name": "stderr",
          "text": [
            "'select()' returned 1:1 mapping between keys and columns\n",
            "\n"
          ]
        },
        {
          "output_type": "stream",
          "name": "stdout",
          "text": [
            "Processing pathway: hsa03060 Protein export \n"
          ]
        },
        {
          "output_type": "stream",
          "name": "stderr",
          "text": [
            "'select()' returned 1:1 mapping between keys and columns\n",
            "\n"
          ]
        },
        {
          "output_type": "stream",
          "name": "stdout",
          "text": [
            "Processing pathway: hsa00230 Purine metabolism \n"
          ]
        },
        {
          "output_type": "stream",
          "name": "stderr",
          "text": [
            "'select()' returned 1:1 mapping between keys and columns\n",
            "\n"
          ]
        },
        {
          "output_type": "stream",
          "name": "stdout",
          "text": [
            "Processing pathway: hsa00480 Glutathione metabolism \n"
          ]
        },
        {
          "output_type": "stream",
          "name": "stderr",
          "text": [
            "'select()' returned 1:1 mapping between keys and columns\n",
            "\n"
          ]
        },
        {
          "output_type": "stream",
          "name": "stdout",
          "text": [
            "Processing pathway: hsa04975 Fat digestion and absorption \n"
          ]
        },
        {
          "output_type": "stream",
          "name": "stderr",
          "text": [
            "'select()' returned 1:1 mapping between keys and columns\n",
            "\n"
          ]
        },
        {
          "output_type": "stream",
          "name": "stdout",
          "text": [
            "Processing pathway: hsa04010 MAPK signaling pathway \n"
          ]
        },
        {
          "output_type": "stream",
          "name": "stderr",
          "text": [
            "'select()' returned 1:1 mapping between keys and columns\n",
            "\n"
          ]
        },
        {
          "output_type": "stream",
          "name": "stdout",
          "text": [
            "Processing pathway: hsa00510 N-Glycan biosynthesis \n"
          ]
        },
        {
          "output_type": "stream",
          "name": "stderr",
          "text": [
            "'select()' returned 1:1 mapping between keys and columns\n",
            "\n"
          ]
        },
        {
          "output_type": "stream",
          "name": "stdout",
          "text": [
            "Processing pathway: hsa00920 Sulfur metabolism \n"
          ]
        },
        {
          "output_type": "stream",
          "name": "stderr",
          "text": [
            "'select()' returned 1:1 mapping between keys and columns\n",
            "\n"
          ]
        },
        {
          "output_type": "stream",
          "name": "stdout",
          "text": [
            "Processing pathway: hsa04670 Leukocyte transendothelial migration \n"
          ]
        },
        {
          "output_type": "stream",
          "name": "stderr",
          "text": [
            "'select()' returned 1:1 mapping between keys and columns\n",
            "\n"
          ]
        },
        {
          "output_type": "stream",
          "name": "stdout",
          "text": [
            "Processing pathway: hsa00512 Mucin type O-Glycan biosynthesis \n"
          ]
        },
        {
          "output_type": "stream",
          "name": "stderr",
          "text": [
            "'select()' returned 1:1 mapping between keys and columns\n",
            "\n"
          ]
        },
        {
          "output_type": "stream",
          "name": "stdout",
          "text": [
            "Processing pathway: hsa00240 Pyrimidine metabolism \n"
          ]
        },
        {
          "output_type": "stream",
          "name": "stderr",
          "text": [
            "'select()' returned 1:1 mapping between keys and columns\n",
            "\n"
          ]
        },
        {
          "output_type": "stream",
          "name": "stdout",
          "text": [
            "Processing pathway: hsa00330 Arginine and proline metabolism \n"
          ]
        },
        {
          "output_type": "stream",
          "name": "stderr",
          "text": [
            "'select()' returned 1:1 mapping between keys and columns\n",
            "\n"
          ]
        },
        {
          "output_type": "stream",
          "name": "stdout",
          "text": [
            "Processing pathway: hsa00592 alpha-Linolenic acid metabolism \n"
          ]
        },
        {
          "output_type": "stream",
          "name": "stderr",
          "text": [
            "'select()' returned 1:1 mapping between keys and columns\n",
            "\n"
          ]
        },
        {
          "output_type": "stream",
          "name": "stdout",
          "text": [
            "Processing pathway: hsa00051 Fructose and mannose metabolism \n"
          ]
        },
        {
          "output_type": "stream",
          "name": "stderr",
          "text": [
            "'select()' returned 1:1 mapping between keys and columns\n",
            "\n"
          ]
        },
        {
          "output_type": "stream",
          "name": "stdout",
          "text": [
            "Processing pathway: hsa00511 Other glycan degradation \n"
          ]
        },
        {
          "output_type": "stream",
          "name": "stderr",
          "text": [
            "'select()' returned 1:1 mapping between keys and columns\n",
            "\n"
          ]
        },
        {
          "output_type": "stream",
          "name": "stdout",
          "text": [
            "Processing pathway: hsa03050 Proteasome \n"
          ]
        },
        {
          "output_type": "stream",
          "name": "stderr",
          "text": [
            "'select()' returned 1:1 mapping between keys and columns\n",
            "\n"
          ]
        },
        {
          "output_type": "stream",
          "name": "stdout",
          "text": [
            "Processing pathway: hsa00980 Metabolism of xenobiotics by cytochrome P450 \n"
          ]
        },
        {
          "output_type": "stream",
          "name": "stderr",
          "text": [
            "'select()' returned 1:1 mapping between keys and columns\n",
            "\n"
          ]
        },
        {
          "output_type": "stream",
          "name": "stdout",
          "text": [
            "Processing pathway: hsa00770 Pantothenate and CoA biosynthesis \n"
          ]
        },
        {
          "output_type": "stream",
          "name": "stderr",
          "text": [
            "'select()' returned 1:1 mapping between keys and columns\n",
            "\n"
          ]
        },
        {
          "output_type": "stream",
          "name": "stdout",
          "text": [
            "Processing pathway: hsa00590 Arachidonic acid metabolism \n"
          ]
        },
        {
          "output_type": "stream",
          "name": "stderr",
          "text": [
            "'select()' returned 1:1 mapping between keys and columns\n",
            "\n"
          ]
        },
        {
          "output_type": "stream",
          "name": "stdout",
          "text": [
            "Processing pathway: hsa00052 Galactose metabolism \n"
          ]
        },
        {
          "output_type": "stream",
          "name": "stderr",
          "text": [
            "'select()' returned 1:1 mapping between keys and columns\n",
            "\n"
          ]
        },
        {
          "output_type": "stream",
          "name": "stdout",
          "text": [
            "Processing pathway: hsa00270 Cysteine and methionine metabolism \n"
          ]
        },
        {
          "output_type": "stream",
          "name": "stderr",
          "text": [
            "'select()' returned 1:1 mapping between keys and columns\n",
            "\n"
          ]
        },
        {
          "output_type": "stream",
          "name": "stdout",
          "text": [
            "Processing pathway: hsa00532 Glycosaminoglycan biosynthesis - chondroitin sulfate \n"
          ]
        },
        {
          "output_type": "stream",
          "name": "stderr",
          "text": [
            "'select()' returned 1:1 mapping between keys and columns\n",
            "\n"
          ]
        },
        {
          "output_type": "stream",
          "name": "stdout",
          "text": [
            "Processing pathway: hsa00531 Glycosaminoglycan degradation \n"
          ]
        },
        {
          "output_type": "stream",
          "name": "stderr",
          "text": [
            "'select()' returned 1:1 mapping between keys and columns\n",
            "\n"
          ]
        },
        {
          "output_type": "stream",
          "name": "stdout",
          "text": [
            "Processing pathway: hsa00565 Ether lipid metabolism \n"
          ]
        },
        {
          "output_type": "stream",
          "name": "stderr",
          "text": [
            "'select()' returned 1:1 mapping between keys and columns\n",
            "\n"
          ]
        },
        {
          "output_type": "stream",
          "name": "stdout",
          "text": [
            "Processing pathway: hsa00830 Retinol metabolism \n"
          ]
        },
        {
          "output_type": "stream",
          "name": "stderr",
          "text": [
            "'select()' returned 1:1 mapping between keys and columns\n",
            "\n"
          ]
        },
        {
          "output_type": "stream",
          "name": "stdout",
          "text": [
            "Processing pathway: hsa00982 Drug metabolism - cytochrome P450 \n"
          ]
        },
        {
          "output_type": "stream",
          "name": "stderr",
          "text": [
            "'select()' returned 1:1 mapping between keys and columns\n",
            "\n"
          ]
        },
        {
          "output_type": "stream",
          "name": "stdout",
          "text": [
            "Processing pathway: hsa04141 Protein processing in endoplasmic reticulum \n"
          ]
        },
        {
          "output_type": "stream",
          "name": "stderr",
          "text": [
            "'select()' returned 1:1 mapping between keys and columns\n",
            "\n"
          ]
        },
        {
          "output_type": "stream",
          "name": "stdout",
          "text": [
            "Processing pathway: hsa00380 Tryptophan metabolism \n"
          ]
        },
        {
          "output_type": "stream",
          "name": "stderr",
          "text": [
            "'select()' returned 1:1 mapping between keys and columns\n",
            "\n"
          ]
        },
        {
          "output_type": "stream",
          "name": "stdout",
          "text": [
            "Processing pathway: hsa04730 Long-term depression \n"
          ]
        },
        {
          "output_type": "stream",
          "name": "stderr",
          "text": [
            "'select()' returned 1:1 mapping between keys and columns\n",
            "\n"
          ]
        },
        {
          "output_type": "stream",
          "name": "stdout",
          "text": [
            "Processing pathway: hsa00604 Glycosphingolipid biosynthesis - ganglio series \n"
          ]
        },
        {
          "output_type": "stream",
          "name": "stderr",
          "text": [
            "'select()' returned 1:1 mapping between keys and columns\n",
            "\n"
          ]
        },
        {
          "output_type": "stream",
          "name": "stdout",
          "text": [
            "Processing pathway: hsa00760 Nicotinate and nicotinamide metabolism \n"
          ]
        },
        {
          "output_type": "stream",
          "name": "stderr",
          "text": [
            "'select()' returned 1:1 mapping between keys and columns\n",
            "\n"
          ]
        },
        {
          "output_type": "stream",
          "name": "stdout",
          "text": [
            "Processing pathway: hsa04664 Fc epsilon RI signaling pathway \n"
          ]
        },
        {
          "output_type": "stream",
          "name": "stderr",
          "text": [
            "'select()' returned 1:1 mapping between keys and columns\n",
            "\n"
          ]
        },
        {
          "output_type": "stream",
          "name": "stdout",
          "text": [
            "Processing pathway: hsa04370 VEGF signaling pathway \n"
          ]
        },
        {
          "output_type": "stream",
          "name": "stderr",
          "text": [
            "'select()' returned 1:1 mapping between keys and columns\n",
            "\n"
          ]
        },
        {
          "output_type": "stream",
          "name": "stdout",
          "text": [
            "Processing pathway: hsa00533 Glycosaminoglycan biosynthesis - keratan sulfate \n"
          ]
        },
        {
          "output_type": "stream",
          "name": "stderr",
          "text": [
            "'select()' returned 1:1 mapping between keys and columns\n",
            "\n"
          ]
        },
        {
          "output_type": "stream",
          "name": "stdout",
          "text": [
            "Processing pathway: hsa04614 Renin-angiotensin system \n"
          ]
        },
        {
          "output_type": "stream",
          "name": "stderr",
          "text": [
            "'select()' returned 1:1 mapping between keys and columns\n",
            "\n"
          ]
        },
        {
          "output_type": "stream",
          "name": "stdout",
          "text": [
            "Processing pathway: hsa00140 Steroid hormone biosynthesis \n"
          ]
        },
        {
          "output_type": "stream",
          "name": "stderr",
          "text": [
            "'select()' returned 1:1 mapping between keys and columns\n",
            "\n"
          ]
        },
        {
          "output_type": "stream",
          "name": "stdout",
          "text": [
            "Processing pathway: hsa00520 Amino sugar and nucleotide sugar metabolism \n"
          ]
        },
        {
          "output_type": "stream",
          "name": "stderr",
          "text": [
            "'select()' returned 1:1 mapping between keys and columns\n",
            "\n"
          ]
        },
        {
          "output_type": "stream",
          "name": "stdout",
          "text": [
            "Processing pathway: hsa00860 Porphyrin and chlorophyll metabolism \n"
          ]
        },
        {
          "output_type": "stream",
          "name": "stderr",
          "text": [
            "'select()' returned 1:1 mapping between keys and columns\n",
            "\n"
          ]
        },
        {
          "output_type": "stream",
          "name": "stdout",
          "text": [
            "Processing pathway: hsa00500 Starch and sucrose metabolism \n"
          ]
        },
        {
          "output_type": "stream",
          "name": "stderr",
          "text": [
            "'select()' returned 1:1 mapping between keys and columns\n",
            "\n"
          ]
        },
        {
          "output_type": "stream",
          "name": "stdout",
          "text": [
            "Processing pathway: hsa00983 Drug metabolism - other enzymes \n"
          ]
        },
        {
          "output_type": "stream",
          "name": "stderr",
          "text": [
            "'select()' returned 1:1 mapping between keys and columns\n",
            "\n"
          ]
        },
        {
          "output_type": "stream",
          "name": "stdout",
          "text": [
            "Processing pathway: hsa04622 RIG-I-like receptor signaling pathway \n"
          ]
        },
        {
          "output_type": "stream",
          "name": "stderr",
          "text": [
            "'select()' returned 1:1 mapping between keys and columns\n",
            "\n"
          ]
        },
        {
          "output_type": "stream",
          "name": "stdout",
          "text": [
            "Processing pathway: hsa00040 Pentose and glucuronate interconversions \n"
          ]
        },
        {
          "output_type": "stream",
          "name": "stderr",
          "text": [
            "'select()' returned 1:1 mapping between keys and columns\n",
            "\n"
          ]
        },
        {
          "output_type": "stream",
          "name": "stdout",
          "text": [
            "Processing pathway: hsa00053 Ascorbate and aldarate metabolism \n"
          ]
        },
        {
          "output_type": "stream",
          "name": "stderr",
          "text": [
            "'select()' returned 1:1 mapping between keys and columns\n",
            "\n"
          ]
        },
        {
          "output_type": "stream",
          "name": "stdout",
          "text": [
            "Processing pathway: hsa00514 Other types of O-glycan biosynthesis \n"
          ]
        },
        {
          "output_type": "stream",
          "name": "stderr",
          "text": [
            "'select()' returned 1:1 mapping between keys and columns\n",
            "\n"
          ]
        },
        {
          "output_type": "stream",
          "name": "stdout",
          "text": [
            "Processing pathway: hsa04623 Cytosolic DNA-sensing pathway \n"
          ]
        },
        {
          "output_type": "stream",
          "name": "stderr",
          "text": [
            "'select()' returned 1:1 mapping between keys and columns\n",
            "\n"
          ]
        },
        {
          "output_type": "stream",
          "name": "stdout",
          "text": [
            "Processing pathway: hsa04510 Focal adhesion \n"
          ]
        },
        {
          "output_type": "stream",
          "name": "stderr",
          "text": [
            "'select()' returned 1:1 mapping between keys and columns\n",
            "\n"
          ]
        },
        {
          "output_type": "stream",
          "name": "stdout",
          "text": [
            "Processing pathway: hsa04142 Lysosome \n"
          ]
        },
        {
          "output_type": "stream",
          "name": "stderr",
          "text": [
            "'select()' returned 1:1 mapping between keys and columns\n",
            "\n"
          ]
        },
        {
          "output_type": "stream",
          "name": "stdout",
          "text": [
            "Processing pathway: hsa04210 Apoptosis \n"
          ]
        },
        {
          "output_type": "stream",
          "name": "stderr",
          "text": [
            "'select()' returned 1:1 mapping between keys and columns\n",
            "\n"
          ]
        },
        {
          "output_type": "stream",
          "name": "stdout",
          "text": [
            "Processing pathway: hsa04974 Protein digestion and absorption \n"
          ]
        },
        {
          "output_type": "stream",
          "name": "stderr",
          "text": [
            "'select()' returned 1:1 mapping between keys and columns\n",
            "\n"
          ]
        },
        {
          "output_type": "stream",
          "name": "stdout",
          "text": [
            "Processing pathway: hsa04666 Fc gamma R-mediated phagocytosis \n"
          ]
        },
        {
          "output_type": "stream",
          "name": "stderr",
          "text": [
            "'select()' returned 1:1 mapping between keys and columns\n",
            "\n"
          ]
        },
        {
          "output_type": "stream",
          "name": "stdout",
          "text": [
            "Processing pathway: hsa04662 B cell receptor signaling pathway \n"
          ]
        },
        {
          "output_type": "stream",
          "name": "stderr",
          "text": [
            "'select()' returned 1:1 mapping between keys and columns\n",
            "\n"
          ]
        },
        {
          "output_type": "stream",
          "name": "stdout",
          "text": [
            "Processing pathway: hsa04621 NOD-like receptor signaling pathway \n"
          ]
        },
        {
          "output_type": "stream",
          "name": "stderr",
          "text": [
            "'select()' returned 1:1 mapping between keys and columns\n",
            "\n"
          ]
        },
        {
          "output_type": "stream",
          "name": "stdout",
          "text": [
            "Processing pathway: hsa04512 ECM-receptor interaction \n"
          ]
        },
        {
          "output_type": "stream",
          "name": "stderr",
          "text": [
            "'select()' returned 1:1 mapping between keys and columns\n",
            "\n"
          ]
        },
        {
          "output_type": "stream",
          "name": "stdout",
          "text": [
            "Processing pathway: hsa04610 Complement and coagulation cascades \n"
          ]
        },
        {
          "output_type": "stream",
          "name": "stderr",
          "text": [
            "'select()' returned 1:1 mapping between keys and columns\n",
            "\n"
          ]
        },
        {
          "output_type": "stream",
          "name": "stdout",
          "text": [
            "Processing pathway: hsa04630 Jak-STAT signaling pathway \n"
          ]
        },
        {
          "output_type": "stream",
          "name": "stderr",
          "text": [
            "'select()' returned 1:1 mapping between keys and columns\n",
            "\n"
          ]
        },
        {
          "output_type": "stream",
          "name": "stdout",
          "text": [
            "Processing pathway: hsa04145 Phagosome \n"
          ]
        },
        {
          "output_type": "stream",
          "name": "stderr",
          "text": [
            "'select()' returned 1:1 mapping between keys and columns\n",
            "\n"
          ]
        },
        {
          "output_type": "stream",
          "name": "stdout",
          "text": [
            "Processing pathway: hsa04514 Cell adhesion molecules (CAMs) \n"
          ]
        },
        {
          "output_type": "stream",
          "name": "stderr",
          "text": [
            "'select()' returned 1:1 mapping between keys and columns\n",
            "\n"
          ]
        },
        {
          "output_type": "stream",
          "name": "stdout",
          "text": [
            "Processing pathway: hsa04380 Osteoclast differentiation \n"
          ]
        },
        {
          "output_type": "stream",
          "name": "stderr",
          "text": [
            "'select()' returned 1:1 mapping between keys and columns\n",
            "\n"
          ]
        },
        {
          "output_type": "stream",
          "name": "stdout",
          "text": [
            "Processing pathway: hsa04660 T cell receptor signaling pathway \n"
          ]
        },
        {
          "output_type": "stream",
          "name": "stderr",
          "text": [
            "'select()' returned 1:1 mapping between keys and columns\n",
            "\n"
          ]
        },
        {
          "output_type": "stream",
          "name": "stdout",
          "text": [
            "Processing pathway: hsa04620 Toll-like receptor signaling pathway \n"
          ]
        },
        {
          "output_type": "stream",
          "name": "stderr",
          "text": [
            "'select()' returned 1:1 mapping between keys and columns\n",
            "\n"
          ]
        },
        {
          "output_type": "stream",
          "name": "stdout",
          "text": [
            "Processing pathway: hsa04612 Antigen processing and presentation \n"
          ]
        },
        {
          "output_type": "stream",
          "name": "stderr",
          "text": [
            "'select()' returned 1:1 mapping between keys and columns\n",
            "\n"
          ]
        },
        {
          "output_type": "stream",
          "name": "stdout",
          "text": [
            "Processing pathway: hsa04650 Natural killer cell mediated cytotoxicity \n"
          ]
        },
        {
          "output_type": "stream",
          "name": "stderr",
          "text": [
            "'select()' returned 1:1 mapping between keys and columns\n",
            "\n"
          ]
        },
        {
          "output_type": "stream",
          "name": "stdout",
          "text": [
            "Processing pathway: hsa04672 Intestinal immune network for IgA production \n"
          ]
        },
        {
          "output_type": "stream",
          "name": "stderr",
          "text": [
            "'select()' returned 1:1 mapping between keys and columns\n",
            "\n"
          ]
        },
        {
          "output_type": "stream",
          "name": "stdout",
          "text": [
            "Processing pathway: hsa04640 Hematopoietic cell lineage \n"
          ]
        },
        {
          "output_type": "stream",
          "name": "stderr",
          "text": [
            "'select()' returned 1:1 mapping between keys and columns\n",
            "\n"
          ]
        },
        {
          "output_type": "stream",
          "name": "stdout",
          "text": [
            "Processing pathway: hsa04062 Chemokine signaling pathway \n"
          ]
        },
        {
          "output_type": "stream",
          "name": "stderr",
          "text": [
            "'select()' returned 1:1 mapping between keys and columns\n",
            "\n"
          ]
        },
        {
          "output_type": "stream",
          "name": "stdout",
          "text": [
            "Processing pathway: hsa00232 Caffeine metabolism \n"
          ]
        },
        {
          "output_type": "stream",
          "name": "stderr",
          "text": [
            "'select()' returned 1:1 mapping between keys and columns\n",
            "\n"
          ]
        },
        {
          "output_type": "stream",
          "name": "stdout",
          "text": [
            "Processing pathway: hsa00300 Lysine biosynthesis \n"
          ]
        },
        {
          "output_type": "stream",
          "name": "stderr",
          "text": [
            "'select()' returned 1:1 mapping between keys and columns\n",
            "\n"
          ]
        },
        {
          "output_type": "stream",
          "name": "stdout",
          "text": [
            "Processing pathway: hsa00130 Ubiquinone and other terpenoid-quinone biosynthesis \n"
          ]
        },
        {
          "output_type": "stream",
          "name": "stderr",
          "text": [
            "'select()' returned 1:1 mapping between keys and columns\n",
            "\n"
          ]
        },
        {
          "output_type": "stream",
          "name": "stdout",
          "text": [
            "Processing pathway: hsa00430 Taurine and hypotaurine metabolism \n"
          ]
        },
        {
          "output_type": "stream",
          "name": "stderr",
          "text": [
            "'select()' returned 1:1 mapping between keys and columns\n",
            "\n"
          ]
        },
        {
          "output_type": "stream",
          "name": "stdout",
          "text": [
            "Processing pathway: hsa00785 Lipoic acid metabolism \n"
          ]
        },
        {
          "output_type": "stream",
          "name": "stderr",
          "text": [
            "'select()' returned 1:1 mapping between keys and columns\n",
            "\n"
          ]
        },
        {
          "output_type": "stream",
          "name": "stdout",
          "text": [
            "Processing pathway: hsa00460 Cyanoamino acid metabolism \n"
          ]
        },
        {
          "output_type": "stream",
          "name": "stderr",
          "text": [
            "'select()' returned 1:1 mapping between keys and columns\n",
            "\n"
          ]
        },
        {
          "output_type": "stream",
          "name": "stdout",
          "text": [
            "Processing pathway: hsa00472 D-Arginine and D-ornithine metabolism \n",
            "Processing pathway: hsa00360 Phenylalanine metabolism \n"
          ]
        },
        {
          "output_type": "stream",
          "name": "stderr",
          "text": [
            "'select()' returned 1:1 mapping between keys and columns\n",
            "\n"
          ]
        },
        {
          "output_type": "stream",
          "name": "stdout",
          "text": [
            "Processing pathway: hsa00790 Folate biosynthesis \n"
          ]
        },
        {
          "output_type": "stream",
          "name": "stderr",
          "text": [
            "'select()' returned 1:1 mapping between keys and columns\n",
            "\n"
          ]
        },
        {
          "output_type": "stream",
          "name": "stdout",
          "text": [
            "Processing pathway: hsa00061 Fatty acid biosynthesis \n"
          ]
        },
        {
          "output_type": "stream",
          "name": "stderr",
          "text": [
            "'select()' returned 1:1 mapping between keys and columns\n",
            "\n"
          ]
        },
        {
          "output_type": "stream",
          "name": "stdout",
          "text": [
            "Processing pathway: hsa00290 Valine, leucine and isoleucine biosynthesis \n"
          ]
        },
        {
          "output_type": "stream",
          "name": "stderr",
          "text": [
            "'select()' returned 1:1 mapping between keys and columns\n",
            "\n"
          ]
        },
        {
          "output_type": "stream",
          "name": "stdout",
          "text": [
            "Processing pathway: hsa00400 Phenylalanine, tyrosine and tryptophan biosynthesis \n"
          ]
        },
        {
          "output_type": "stream",
          "name": "stderr",
          "text": [
            "'select()' returned 1:1 mapping between keys and columns\n",
            "\n"
          ]
        },
        {
          "output_type": "stream",
          "name": "stdout",
          "text": [
            "Processing pathway: hsa00730 Thiamine metabolism \n"
          ]
        },
        {
          "output_type": "stream",
          "name": "stderr",
          "text": [
            "'select()' returned 1:1 mapping between keys and columns\n",
            "\n"
          ]
        },
        {
          "output_type": "stream",
          "name": "stdout",
          "text": [
            "Processing pathway: hsa00471 D-Glutamine and D-glutamate metabolism \n"
          ]
        },
        {
          "output_type": "stream",
          "name": "stderr",
          "text": [
            "'select()' returned 1:1 mapping between keys and columns\n",
            "\n"
          ]
        },
        {
          "output_type": "stream",
          "name": "stdout",
          "text": [
            "Processing pathway: hsa04122 Sulfur relay system \n"
          ]
        },
        {
          "output_type": "stream",
          "name": "stderr",
          "text": [
            "'select()' returned 1:1 mapping between keys and columns\n",
            "\n"
          ]
        },
        {
          "output_type": "stream",
          "name": "stdout",
          "text": [
            "Processing pathway: hsa00750 Vitamin B6 metabolism \n"
          ]
        },
        {
          "output_type": "stream",
          "name": "stderr",
          "text": [
            "'select()' returned 1:1 mapping between keys and columns\n",
            "\n"
          ]
        },
        {
          "output_type": "stream",
          "name": "stdout",
          "text": [
            "Processing pathway: hsa00780 Biotin metabolism \n"
          ]
        },
        {
          "output_type": "stream",
          "name": "stderr",
          "text": [
            "'select()' returned 1:1 mapping between keys and columns\n",
            "\n"
          ]
        },
        {
          "output_type": "stream",
          "name": "stdout",
          "text": [
            "Processing pathway: hsa00072 Synthesis and degradation of ketone bodies \n"
          ]
        },
        {
          "output_type": "stream",
          "name": "stderr",
          "text": [
            "'select()' returned 1:1 mapping between keys and columns\n",
            "\n"
          ]
        },
        {
          "output_type": "stream",
          "name": "stdout",
          "text": [
            "                                                                                                 Pathway_id\n",
            "hsa04062 Chemokine signaling pathway                                   hsa04062 Chemokine signaling pathway\n",
            "hsa04640 Hematopoietic cell lineage                                     hsa04640 Hematopoietic cell lineage\n",
            "hsa04672 Intestinal immune network for IgA production hsa04672 Intestinal immune network for IgA production\n",
            "hsa04650 Natural killer cell mediated cytotoxicity       hsa04650 Natural killer cell mediated cytotoxicity\n",
            "hsa04612 Antigen processing and presentation                   hsa04612 Antigen processing and presentation\n",
            "hsa04620 Toll-like receptor signaling pathway                 hsa04620 Toll-like receptor signaling pathway\n",
            "                                                         p.geomean stat.mean\n",
            "hsa04062 Chemokine signaling pathway                  6.940839e-07  4.944564\n",
            "hsa04640 Hematopoietic cell lineage                   9.972178e-07  5.001760\n",
            "hsa04672 Intestinal immune network for IgA production 6.867761e-06  4.693156\n",
            "hsa04650 Natural killer cell mediated cytotoxicity    8.834447e-06  4.414005\n",
            "hsa04612 Antigen processing and presentation          1.078642e-05  4.446207\n",
            "hsa04620 Toll-like receptor signaling pathway         5.257141e-05  4.018528\n",
            "                                                             p.val        q.val\n",
            "hsa04062 Chemokine signaling pathway                  6.940839e-07 7.927881e-05\n",
            "hsa04640 Hematopoietic cell lineage                   9.972178e-07 7.927881e-05\n",
            "hsa04672 Intestinal immune network for IgA production 6.867761e-06 3.430082e-04\n",
            "hsa04650 Natural killer cell mediated cytotoxicity    8.834447e-06 3.430082e-04\n",
            "hsa04612 Antigen processing and presentation          1.078642e-05 3.430082e-04\n",
            "hsa04620 Toll-like receptor signaling pathway         5.257141e-05 1.393142e-03\n",
            "                                                      set.size         exp1\n",
            "hsa04062 Chemokine signaling pathway                       144 6.940839e-07\n",
            "hsa04640 Hematopoietic cell lineage                         71 9.972178e-07\n",
            "hsa04672 Intestinal immune network for IgA production       38 6.867761e-06\n",
            "hsa04650 Natural killer cell mediated cytotoxicity          89 8.834447e-06\n",
            "hsa04612 Antigen processing and presentation                57 1.078642e-05\n",
            "hsa04620 Toll-like receptor signaling pathway               65 5.257141e-05\n",
            "                                                                                                                                                                                                                                                                                                                                                                                                                                                                                                                                                                                                                                                                                                                                                                                                                                                                                                                                                                                                                                                 Genes\n",
            "hsa04062 Chemokine signaling pathway                  AKT3, RASGRP2, CCL26, VAV3, CXCL13, CXCR6, ADCY1, ADCY2, CCR9, CCL27, ADCY3, ADCY5, ADCY6, ADCY8, CHUK, CCR1, CCR3, CCR4, CCR5, CCR6, CCR8, GRK7, CX3CR1, GRK2, DOCK2, PTK2B, FGR, FOXO3, PLCB1, PIK3R5, SHC2, TIAM2, GNAI1, GNAI2, GNAI3, GNB1, GNB2, GNB3, GNG3, GNG4, GNG5, GNG7, GNG10, GNG11, GNGT1, GNGT2, CCR10, XCR1, GRK4, GRK5, GRK6, CXCL1, CXCL2, CXCL3, GSK3B, HCK, HRAS, IKBKB, CXCL8, CXCR1, CXCR2, CXCL10, ITK, JAK2, KRAS, RHOA, SHC4, LYN, ARRB1, CXCL9, NFKB1, NRAS, PAK1, PF4V1, PIK3CA, PIK3CB, PIK3CD, PIK3CG, PIK3R1, PIK3R2, PLCB3, SHC3, PPBP, PRKACB, PRKCD, PRKCZ, GNG12, PARD3, CCL28, PTK2, PXN, RAC1, RAF1, RAP1A, RAP1B, GNB4, RELA, GRK1, CCL1, CCL2, CCL3, CCL3L1, CCL4, CCL7, CCL11, CCL14, CCL15, CCL16, CCL17, CCL19, CCL20, CCL21, CCL22, CCL23, CCL24, CCL25, CXCL6, CXCL11, CXCL5, XCL1, CX3CL1, CXCL12, CXCR5, SHC1, NCF1, SOS1, BRAF, STAT1, STAT2, STAT5B, XCL2, CCR2, VAV1, VAV2, WAS, CXCR4, PIK3R3, WASL, GNG8, ROCK2, CXCL14, CCL4L2, ELMO1, CDC42\n",
            "hsa04640 Hematopoietic cell lineage                                                                                                                                                                                                                                                                                                                                                                                                                                                                                                                                                             CD24, CR1, CR2, CSF1, CSF1R, CSF2, CSF3, CSF3R, CD55, DNTT, EPO, EPOR, FCGR1A, FLT3, GP1BA, GP5, GP9, HLA-DRA, HLA-DRB1, HLA-DRB5, IL1A, IL1B, IL1R1, IL2RA, IL3RA, IL5, IL5RA, IL6, IL6R, IL7, IL7R, IL9R, IL11, IL11RA, ITGA6, ITGA1, ITGA2, ITGA4, ITGA5, KIT, KITLG, MME, TFRC, THPO, TNF, TPO, IL1R2, CD1A, CD1B, CD1C, CD1D, CD1E, CD2, CD3D, CD3E, CD3G, CD4, CD5, CD8A, CD8B, CD9, CD14, CD19, MS4A1, CD22, CD33, CD34, CD36, CD38, CD44, CD59\n",
            "hsa04672 Intestinal immune network for IgA production                                                                                                                                                                                                                                                                                                                                                                                                                                                                                                                                                                                                                                                                                             TNFSF13B, CCR9, CCL27, TNFRSF13B, CCR10, ICOS, HLA-DMA, HLA-DMB, HLA-DOA, HLA-DOB, HLA-DPA1, HLA-DPB1, HLA-DQA1, HLA-DQB1, HLA-DRA, HLA-DRB1, HLA-DRB5, IL2, IL5, IL6, IL10, IL15, IL15RA, ITGA4, ITGB7, LTBR, PIGR, CCL28, AICDA, TNFRSF17, CCL25, CXCL12, CXCR4, MADCAM1, CD28, CD80, CD86, CD40LG\n",
            "hsa04650 Natural killer cell mediated cytotoxicity                                                                                                                                                                                                                                                                                                                                         VAV3, SH2D1B, RAET1E, CSF2, RAET1L, PTK2B, FCER1G, FCGR3A, FCGR3B, KLRK1, PIK3R5, FYN, SHC2, NCR3, LAT, GZMB, HLA-A, HLA-B, HLA-C, HLA-E, HLA-G, HRAS, ICAM2, IFNA5, IFNG, IFNGR1, RAET1G, FAS, FASLG, ITGAL, KIR2DL1, KIR2DL3, KIR2DL4, KIR2DS4, KIR3DL1, KIR3DL2, KLRC1, KLRC2, KLRC3, KLRD1, KRAS, LCK, LCP2, SHC4, MICB, NRAS, PAK1, CD244, PIK3CA, PIK3CB, PIK3CD, PIK3CG, PIK3R1, PIK3R2, SHC3, PPP3CA, PPP3CB, PPP3CC, PPP3R1, PRF1, PRKCG, PTPN6, PTPN11, RAC1, RAC3, RAF1, SH3BP2, SHC1, SOS1, BRAF, SYK, TNF, VAV1, VAV2, ZAP70, ULBP3, ULBP2, ULBP1, CASP3, PIK3R3, TNFSF10, TNFRSF10D, TNFRSF10C, TNFRSF10B, TNFRSF10A, CD247, NCR2, NCR1, CD48\n",
            "hsa04612 Antigen processing and presentation                                                                                                                                                                                                                                                                                                                                                                                                                                                                                                                                                               IFI30, KIR3DL3, CREB1, CTSB, CTSL, CTSS, HLA-A, HLA-B, HLA-C, HLA-DMA, HLA-DMB, HLA-DOA, HLA-DOB, HLA-DPA1, HLA-DPB1, HLA-DQA1, HLA-DQB1, HLA-DRA, HLA-DRB1, HLA-DRB5, HLA-E, HLA-F, HLA-G, HSPA1A, HSPA1B, HSPA1L, HSPA4, HSPA5, HSPA6, HSPA8, HSP90AB1, IFNG, KIR2DL1, KIR2DL3, KIR2DL4, KIR2DS4, KIR3DL1, KIR3DL2, KLRC1, KLRC2, KLRC3, KLRD1, NFYA, NFYB, NFYC, RFX5, RFXAP, TAP1, TAP2, TAPBP, TNF, CANX, KLRC4, CD4, CD8A, CD8B, CD74\n",
            "hsa04620 Toll-like receptor signaling pathway                                                                                                                                                                                                                                                                                                                                                                                                                                                                                                                                                  AKT3, TLR6, TIRAP, CHUK, MAP3K8, MAPK14, CTSK, TAB2, PIK3R5, LY96, TBK1, IFNA5, TICAM2, IKBKB, IL1B, IL6, CXCL8, IL12A, IL12B, CXCL10, IRF5, IRF7, JUN, LBP, CXCL9, MYD88, NFKB1, IRAK4, TLR7, PIK3CA, PIK3CB, PIK3CD, PIK3CG, PIK3R1, PIK3R2, TOLLIP, MAPK8, MAPK9, MAPK10, MAPK13, MAP2K3, RAC1, RELA, MAPK12, CCL3, CCL4, CXCL11, SPP1, STAT1, MAP3K7, TLR1, TLR2, TLR3, TLR4, TLR5, TNF, TRAF6, CASP8, PIK3R3, RIPK1, FADD, CD14, CD80, CD86, IKBKE\n",
            "                                                      EnrichmentScore\n",
            "hsa04062 Chemokine signaling pathway                        0.7619048\n",
            "hsa04640 Hematopoietic cell lineage                         0.8068182\n",
            "hsa04672 Intestinal immune network for IgA production       0.7755102\n",
            "hsa04650 Natural killer cell mediated cytotoxicity          0.6544118\n",
            "hsa04612 Antigen processing and presentation                0.7307692\n",
            "hsa04620 Toll-like receptor signaling pathway               0.6372549\n",
            "                                                                       Pathway_id\n",
            "hsa04530 Tight junction                                   hsa04530 Tight junction\n",
            "hsa04920 Adipocytokine signaling pathway hsa04920 Adipocytokine signaling pathway\n",
            "hsa04710 Circadian rhythm - mammal             hsa04710 Circadian rhythm - mammal\n",
            "hsa04742 Taste transduction                           hsa04742 Taste transduction\n",
            "hsa04976 Bile secretion                                   hsa04976 Bile secretion\n",
            "hsa03015 mRNA surveillance pathway             hsa03015 mRNA surveillance pathway\n",
            "                                          p.geomean stat.mean      p.val\n",
            "hsa04530 Tight junction                  0.03219675 -1.861150 0.03219675\n",
            "hsa04920 Adipocytokine signaling pathway 0.04968009 -1.662534 0.04968009\n",
            "hsa04710 Circadian rhythm - mammal       0.07610190 -1.487394 0.07610190\n",
            "hsa04742 Taste transduction              0.07818399 -1.434399 0.07818399\n",
            "hsa04976 Bile secretion                  0.07895447 -1.423012 0.07895447\n",
            "hsa03015 mRNA surveillance pathway       0.09183161 -1.344397 0.09183161\n",
            "                                             q.val set.size       exp1\n",
            "hsa04530 Tight junction                  0.9840034       90 0.03219675\n",
            "hsa04920 Adipocytokine signaling pathway 0.9840034       54 0.04968009\n",
            "hsa04710 Circadian rhythm - mammal       0.9840034       16 0.07610190\n",
            "hsa04742 Taste transduction              0.9840034       33 0.07818399\n",
            "hsa04976 Bile secretion                  0.9840034       50 0.07895447\n",
            "hsa03015 mRNA surveillance pathway       0.9840034       51 0.09183161\n",
            "                                                                                                                                                                                                                                                                                                                                                                                                                                                                                                                                                                                                                                                                                             Genes\n",
            "hsa04530 Tight junction                  AKT3, OCLN, CDK4, PATJ, CLDN16, EXOC3, CLDN4, CLDN3, CLDN23, CSNK2B, CLDN19, CTNNA1, CTNNA2, CTNNB1, IGSF5, AMOTL1, CTTN, EPB41, EPB41L2, RRAS2, MRAS, MYH15, CLDN14, CLDN15, MAGI3, CLDN17, GNAI1, GNAI2, GNAI3, CTNNA3, MYL11, HCLS1, HRAS, KRAS, RHOA, AFDN, MYH1, MYH2, MYH6, MYH7, MYL2, MYL5, NRAS, CLDN20, CLDN11, F11R, PARD6A, MAP3K20, CLDN22, PPP2CA, PPP2CB, PPP2R1B, PPP2R2A, PPP2R2B, PPP2R2C, PRKCD, PRKCE, PRKCG, PRKCI, PPP2R2D, ASH1L, PRKCQ, PRKCZ, PARD3, PTEN, CGN, MYH7B, JAM2, MYL7, RAB3B, RAB13, ACTB, EXOC4, RRAS, SPTAN1, JAM3, YBX3, MYH13, MPDZ, ACTN2, ACTN3, CLDN10, CLDN6, CLDN1, CLDN9, MAGI1, TJAP1, TJP2, MAGI2, CDC42\n",
            "hsa04920 Adipocytokine signaling pathway                                                                                                                                                                                                                                                           AKT3, CAMKK2, PPARGC1A, CHUK, CPT1C, CPT1A, CPT1B, AGRP, ACSL1, ACSL3, ACSL4, ACSL6, MTOR, G6PC1, ACACB, IKBKB, IRS1, JAK2, LEP, LEPR, NFKB1, NFKBIE, PCK1, ADIPOR1, PRKAG2, ACSL5, PRKAG3, POMC, PRKAA1, PRKAA2, PRKAB1, PRKAB2, PRKAG1, PRKCQ, MAPK8, MAPK9, MAPK10, PTPN11, G6PC2, RELA, RXRA, RXRB, RXRG, SLC2A1, TNF, TNFRSF1A, TNFRSF1B, TRAF2, ADIPOR2, ACSBG2, IRS4, IRS2, ADIPOQ, CD36\n",
            "hsa04710 Circadian rhythm - mammal                                                                                                                                                                                                                                                                                                                                                                                                                                                                                                                                                      CRY1, CRY2, FBXW11, FBXL3, BMAL1, NPAS2, RORB, RORC, SKP1, BHLHE41, CUL1, BHLHE40, PER3, PER2, BTRC, CLOCK\n",
            "hsa04742 Taste transduction                                                                                                                                                                                                                                                                                                                                                                                                    ADCY6, ADCY8, TAS2R43, TAS2R31, TAS2R46, TAS2R19, TAS2R20, TAS2R50, GNB1, GNB3, GNG3, GRM4, TRPM5, TAS2R60, ITPR3, KCNB1, ASIC2, TAS2R3, TAS2R4, TAS2R13, TAS2R10, TAS2R14, PDE1A, TAS2R5, PRKACB, SCNN1A, SCNN1B, SCNN1G, CACNA1A, CACNA1B, TAS1R2, TAS1R1, TAS1R3\n",
            "hsa04976 Bile secretion                                                                                                                                                                                                                                                                                             ABCC4, SLCO1B1, ADCY1, ADCY2, CFTR, ADCY3, ADCY5, ADCY6, ADCY8, ABCC2, CYP3A4, CYP7A1, SLC51A, EPHX1, HMGCR, AQP8, AQP1, AQP4, KCNN2, ATP1A1, ATP1A2, ATP1A3, ATP1A4, ATP1B1, ATP1B2, ATP1B3, FXYD2, ABCB1, ABCB4, PRKACB, BAAT, NCEH1, SLC4A5, RXRA, SCTR, ABCG5, ABCG8, SLC2A1, SLC4A2, SLC9A1, SLC9A3, SLC10A2, SLCO1A2, SLC22A1, CA2, ABCB11, SLC4A4, ABCG2, SCARB1, NR1H4\n",
            "hsa03015 mRNA surveillance pathway                                                                                                                                                                                                                                                                     SRRM1, SAP18, NXF1, HBS1L, CPSF4, CLP1, CPSF6, PABPC4L, PABPC5, CSTF3, ETF1, NCBP2, CSTF2T, SMG5, GSPT2, UPF2, PABPC1, NXT1, CPSF1, PABPN1L, MAGOH, MSI1, NCBP1, PABPC3, PCF11, CPSF3, PELO, MAGOHB, PPP2CA, PPP2CB, PPP2R1B, PPP2R2A, PPP2R2B, PPP2R2C, PPP2R3A, PPP2R5A, PPP2R5B, PPP2R5D, PPP2R2D, PAPOLB, PAPOLG, UPF3B, UPF3A, DDX39B, CPSF7, FIP1L1, PYM1, RNGTT, PABPC4, SMG7, RBM8A\n",
            "                                         EnrichmentScore\n",
            "hsa04530 Tight junction                        0.6766917\n",
            "hsa04920 Adipocytokine signaling pathway       0.7941176\n",
            "hsa04710 Circadian rhythm - mammal             0.6956522\n",
            "hsa04742 Taste transduction                    0.6346154\n",
            "hsa04976 Bile secretion                        0.7042254\n",
            "hsa03015 mRNA surveillance pathway             0.6144578\n"
          ]
        }
      ],
      "source": [
        "# Load necessary libraries\n",
        "library(clusterProfiler)\n",
        "library(org.Hs.eg.db)\n",
        "\n",
        "# Function to extract genes involved in each pathway and convert to gene symbols and calculate Enrichment Score\n",
        "extract_pathway_genes_and_enrichment <- function(pathway_name, kegg_sets, foldchanges) {\n",
        "    # Print the pathway name being processed for debugging\n",
        "    cat(\"Processing pathway:\", pathway_name, \"\\n\")\n",
        "\n",
        "    # Ensure pathway_name is in the correct format to match kegg_sets keys\n",
        "    pathway_genes <- kegg_sets[[pathway_name]]\n",
        "\n",
        "    # If the pathway is not found, print warning and return NA\n",
        "    if (is.null(pathway_genes)) {\n",
        "        cat(\"Warning: Pathway\", pathway_name, \"not found in KEGG sets\\n\")\n",
        "        return(list(Genes = NA, EnrichmentScore = NA))\n",
        "    }\n",
        "\n",
        "    # Extract genes that are in both the pathway and the foldchanges list\n",
        "    overlapping_genes <- intersect(pathway_genes, names(foldchanges))\n",
        "\n",
        "    # If no genes are found, return NA\n",
        "    if (length(overlapping_genes) == 0) {\n",
        "        return(list(Genes = NA, EnrichmentScore = NA))\n",
        "    }\n",
        "\n",
        "    # Calculate observed DEGs (overlapping genes)\n",
        "    observed_DEGs <- length(overlapping_genes)\n",
        "\n",
        "    # Calculate expected genes (total genes in the pathway)\n",
        "    total_genes <- length(pathway_genes)\n",
        "\n",
        "    # Calculate the enrichment score\n",
        "    enrichment_score <- observed_DEGs / total_genes\n",
        "\n",
        "    # Convert ENTREZ IDs to gene symbols\n",
        "    gene_symbols <- bitr(overlapping_genes, fromType = \"ENTREZID\", toType = \"SYMBOL\", OrgDb = org.Hs.eg.db)\n",
        "\n",
        "    # Return the gene symbols and enrichment score as a list\n",
        "    if (nrow(gene_symbols) > 0) {\n",
        "        genes <- paste(gene_symbols$SYMBOL, collapse = \", \")\n",
        "    } else {\n",
        "        genes <- NA\n",
        "    }\n",
        "\n",
        "    return(list(Genes = genes, EnrichmentScore = enrichment_score))\n",
        "}\n",
        "\n",
        "# Extract pathway IDs from the results\n",
        "upreg_pathway_ids <- rownames(Upreg_pathways)\n",
        "downreg_pathway_ids <- rownames(Downreg_pathways)\n",
        "\n",
        "# Add a column for genes affected in upregulated pathways (as gene symbols) and Enrichment Score\n",
        "upreg_results <- lapply(upreg_pathway_ids, extract_pathway_genes_and_enrichment, kegg_sets = kegg.sets.hs, foldchanges = foldchanges)\n",
        "\n",
        "# Ensure all elements in the result contain 'Genes' and 'EnrichmentScore'\n",
        "Upreg_pathways$Genes <- sapply(upreg_results, function(x) if (!is.null(x$Genes)) x$Genes else NA)\n",
        "Upreg_pathways$EnrichmentScore <- sapply(upreg_results, function(x) if (!is.null(x$EnrichmentScore)) x$EnrichmentScore else NA)\n",
        "\n",
        "# Add a column for genes affected in downregulated pathways (as gene symbols) and Enrichment Score\n",
        "downreg_results <- lapply(downreg_pathway_ids, extract_pathway_genes_and_enrichment, kegg_sets = kegg.sets.hs, foldchanges = foldchanges)\n",
        "\n",
        "# Ensure all elements in the result contain 'Genes' and 'EnrichmentScore'\n",
        "Downreg_pathways$Genes <- sapply(downreg_results, function(x) if (!is.null(x$Genes)) x$Genes else NA)\n",
        "Downreg_pathways$EnrichmentScore <- sapply(downreg_results, function(x) if (!is.null(x$EnrichmentScore)) x$EnrichmentScore else NA)\n",
        "\n",
        "# Print the first few rows to check if gene symbols and enrichment scores are being added correctly\n",
        "print(head(Upreg_pathways))\n",
        "print(head(Downreg_pathways))"
      ]
    },
    {
      "cell_type": "code",
      "execution_count": null,
      "metadata": {
        "id": "juMG8xF44OVZ"
      },
      "outputs": [],
      "source": [
        "# Write the results to files\n",
        "write.table(Upreg_pathways, file = \"upreg_pathways_enrichment.txt\", sep = \"\\t\", row.names = FALSE, quote = FALSE)\n",
        "write.table(Downreg_pathways, file = \"downreg_pathways_enrichment.txt\", sep = \"\\t\", row.names = FALSE, quote = FALSE)"
      ]
    },
    {
      "cell_type": "code",
      "execution_count": null,
      "metadata": {
        "colab": {
          "base_uri": "https://localhost:8080/"
        },
        "id": "9nQTSVhnnHdc",
        "outputId": "c91b336c-752b-4f2f-b8ec-d9fa0ba5463a"
      },
      "outputs": [
        {
          "output_type": "stream",
          "name": "stderr",
          "text": [
            "'select()' returned 1:1 mapping between keys and columns\n",
            "\n",
            "Info: Working in directory /content\n",
            "\n",
            "Info: Writing image file hsa04062.pathview.png\n",
            "\n",
            "'select()' returned 1:1 mapping between keys and columns\n",
            "\n",
            "Info: Working in directory /content\n",
            "\n",
            "Info: Writing image file hsa04640.pathview.png\n",
            "\n",
            "Info: Downloading xml files for hsa04672, 1/1 pathways..\n",
            "\n",
            "Info: Downloading png files for hsa04672, 1/1 pathways..\n",
            "\n",
            "'select()' returned 1:1 mapping between keys and columns\n",
            "\n",
            "Info: Working in directory /content\n",
            "\n",
            "Info: Writing image file hsa04672.pathview.png\n",
            "\n",
            "'select()' returned 1:1 mapping between keys and columns\n",
            "\n",
            "Info: Working in directory /content\n",
            "\n",
            "Info: Writing image file hsa04650.pathview.png\n",
            "\n",
            "Info: Downloading xml files for hsa04612, 1/1 pathways..\n",
            "\n",
            "Info: Downloading png files for hsa04612, 1/1 pathways..\n",
            "\n",
            "'select()' returned 1:1 mapping between keys and columns\n",
            "\n",
            "Info: Working in directory /content\n",
            "\n",
            "Info: Writing image file hsa04612.pathview.png\n",
            "\n",
            "Info: Downloading xml files for hsa04530, 1/1 pathways..\n",
            "\n",
            "Info: Downloading png files for hsa04530, 1/1 pathways..\n",
            "\n",
            "'select()' returned 1:1 mapping between keys and columns\n",
            "\n",
            "Info: Working in directory /content\n",
            "\n",
            "Info: Writing image file hsa04530.pathview.png\n",
            "\n",
            "Info: Downloading xml files for hsa04920, 1/1 pathways..\n",
            "\n",
            "Info: Downloading png files for hsa04920, 1/1 pathways..\n",
            "\n",
            "'select()' returned 1:1 mapping between keys and columns\n",
            "\n",
            "Info: Working in directory /content\n",
            "\n",
            "Info: Writing image file hsa04920.pathview.png\n",
            "\n",
            "'select()' returned 1:1 mapping between keys and columns\n",
            "\n",
            "Info: Working in directory /content\n",
            "\n",
            "Info: Writing image file hsa04710.pathview.png\n",
            "\n",
            "Info: Downloading xml files for hsa04742, 1/1 pathways..\n",
            "\n",
            "Info: Downloading png files for hsa04742, 1/1 pathways..\n",
            "\n",
            "'select()' returned 1:1 mapping between keys and columns\n",
            "\n",
            "Info: Working in directory /content\n",
            "\n",
            "Info: Writing image file hsa04742.pathview.png\n",
            "\n",
            "'select()' returned 1:1 mapping between keys and columns\n",
            "\n",
            "Info: Working in directory /content\n",
            "\n",
            "Info: Writing image file hsa04976.pathview.png\n",
            "\n"
          ]
        }
      ],
      "source": [
        "# Extract the top 5 upregulated pathways\n",
        "keggrespathways_up <- rownames(kegg_result$greater)[1:5]\n",
        "\n",
        "# Extract the IDs of the top 5 upregulated pathways\n",
        "keggresids_up <- substr(keggrespathways_up, start=1, stop=8)\n",
        "\n",
        "# Write the IDs of the top 5 upregulated pathways to a file\n",
        "write.table(keggresids_up, file=\"top5_upreg_pathways_ids.txt\", sep=\"\\t\", row.names=FALSE, quote=FALSE)\n",
        "\n",
        "# Draw pathway maps for the top 5 upregulated pathways\n",
        "pathview(gene.data=foldchanges, pathway.id=keggresids_up, species=\"hsa\")\n",
        "\n",
        "# Extract the top 5 downregulated pathways\n",
        "keggrespathways_down <- rownames(kegg_result$less)[1:5]\n",
        "\n",
        "# Extract the IDs of the top 5 downregulated pathways\n",
        "keggresids_down <- substr(keggrespathways_down, start=1, stop=8)\n",
        "\n",
        "# Write the IDs of the top 5 downregulated pathways to a file\n",
        "write.table(keggresids_down, file=\"top5_downreg_pathways_ids.txt\", sep=\"\\t\", row.names=FALSE, quote=FALSE)\n",
        "\n",
        "# Draw pathway maps for the top 5 downregulated pathways\n",
        "pathview(gene.data=foldchanges, pathway.id=keggresids_down, species=\"hsa\")\n"
      ]
    },
    {
      "cell_type": "code",
      "source": [
        "library(pathview)\n",
        "\n",
        "# Extract the top 5 upregulated pathways\n",
        "keggrespathways_up <- rownames(kegg_result$greater)[1:5]\n",
        "\n",
        "# Extract the IDs of the top 5 upregulated pathways\n",
        "keggresids_up <- substr(keggrespathways_up, start=1, stop=8)\n",
        "\n",
        "# Write the IDs of the top 5 upregulated pathways to a file\n",
        "write.table(keggresids_up, file=\"top5_upreg_pathways_ids.txt\", sep=\"\\t\", row.names=FALSE, quote=FALSE)\n",
        "\n",
        "# Save pathway maps for the top 5 upregulated pathways with 300 DPI\n",
        "for (pathway in keggresids_up) {\n",
        "  png(filename = paste0(\"pathway_up_\", pathway, \".png\"), width = 2000, height = 2000, res = 300)\n",
        "  pathview(gene.data = foldchanges, pathway.id = pathway, species = \"hsa\")\n",
        "  dev.off()\n",
        "}\n",
        "\n",
        "# Extract the top 5 downregulated pathways\n",
        "keggrespathways_down <- rownames(kegg_result$less)[1:5]\n",
        "\n",
        "# Extract the IDs of the top 5 downregulated pathways\n",
        "keggresids_down <- substr(keggrespathways_down, start=1, stop=8)\n",
        "\n",
        "# Write the IDs of the top 5 downregulated pathways to a file\n",
        "write.table(keggresids_down, file=\"top5_downreg_pathways_ids.txt\", sep=\"\\t\", row.names=FALSE, quote=FALSE)\n",
        "\n",
        "# Save pathway maps for the top 5 downregulated pathways with 300 DPI\n",
        "for (pathway in keggresids_down) {\n",
        "  png(filename = paste0(\"pathway_down_\", pathway, \".png\"), width = 2000, height = 2000, res = 300)\n",
        "  pathview(gene.data = foldchanges, pathway.id = pathway, species = \"hsa\")\n",
        "  dev.off()\n",
        "}\n"
      ],
      "metadata": {
        "colab": {
          "base_uri": "https://localhost:8080/"
        },
        "id": "bvhfgD4FXsZj",
        "outputId": "d045ecc8-eb11-415d-8497-eba47b12cf1c"
      },
      "execution_count": null,
      "outputs": [
        {
          "output_type": "stream",
          "name": "stderr",
          "text": [
            "'select()' returned 1:1 mapping between keys and columns\n",
            "\n",
            "Info: Working in directory /content\n",
            "\n",
            "Info: Writing image file hsa04062.pathview.png\n",
            "\n",
            "'select()' returned 1:1 mapping between keys and columns\n",
            "\n",
            "Info: Working in directory /content\n",
            "\n",
            "Info: Writing image file hsa04640.pathview.png\n",
            "\n",
            "'select()' returned 1:1 mapping between keys and columns\n",
            "\n",
            "Info: Working in directory /content\n",
            "\n",
            "Info: Writing image file hsa04672.pathview.png\n",
            "\n",
            "'select()' returned 1:1 mapping between keys and columns\n",
            "\n",
            "Info: Working in directory /content\n",
            "\n",
            "Info: Writing image file hsa04650.pathview.png\n",
            "\n",
            "'select()' returned 1:1 mapping between keys and columns\n",
            "\n",
            "Info: Working in directory /content\n",
            "\n",
            "Info: Writing image file hsa04612.pathview.png\n",
            "\n",
            "'select()' returned 1:1 mapping between keys and columns\n",
            "\n",
            "Info: Working in directory /content\n",
            "\n",
            "Info: Writing image file hsa04530.pathview.png\n",
            "\n",
            "'select()' returned 1:1 mapping between keys and columns\n",
            "\n",
            "Info: Working in directory /content\n",
            "\n",
            "Info: Writing image file hsa04920.pathview.png\n",
            "\n",
            "'select()' returned 1:1 mapping between keys and columns\n",
            "\n",
            "Info: Working in directory /content\n",
            "\n",
            "Info: Writing image file hsa04710.pathview.png\n",
            "\n",
            "'select()' returned 1:1 mapping between keys and columns\n",
            "\n",
            "Info: Working in directory /content\n",
            "\n",
            "Info: Writing image file hsa04742.pathview.png\n",
            "\n",
            "'select()' returned 1:1 mapping between keys and columns\n",
            "\n",
            "Info: Working in directory /content\n",
            "\n",
            "Info: Writing image file hsa04976.pathview.png\n",
            "\n"
          ]
        }
      ]
    },
    {
      "cell_type": "code",
      "source": [
        "# Load necessary library\n",
        "library(pathview)\n",
        "\n",
        "# Extract the top 5 upregulated pathways\n",
        "keggrespathways_up <- rownames(kegg_result$greater)[1:5]\n",
        "\n",
        "# Extract the IDs of the top 5 upregulated pathways\n",
        "keggresids_up <- substr(keggrespathways_up, start=1, stop=8)\n",
        "\n",
        "# Write the IDs of the top 5 upregulated pathways to a file\n",
        "write.table(keggresids_up, file=\"top5_upreg_pathways_ids.txt\", sep=\"\\t\", row.names=FALSE, quote=FALSE)\n",
        "\n",
        "# Save pathway maps for the top 5 upregulated pathways with increased dimensions\n",
        "for (pathway in keggresids_up) {\n",
        "  pathview(gene.data = foldchanges,\n",
        "           pathway.id = pathway,\n",
        "           species = \"hsa\",\n",
        "           kegg.native = TRUE,\n",
        "           out.suffix = \"upregulated\",\n",
        "           high.res = TRUE)  # Enable high-resolution output\n",
        "}\n",
        "\n",
        "# Extract the top 5 downregulated pathways\n",
        "keggrespathways_down <- rownames(kegg_result$less)[1:5]\n",
        "\n",
        "# Extract the IDs of the top 5 downregulated pathways\n",
        "keggresids_down <- substr(keggrespathways_down, start=1, stop=8)\n",
        "\n",
        "# Write the IDs of the top 5 downregulated pathways to a file\n",
        "write.table(keggresids_down, file=\"top5_downreg_pathways_ids.txt\", sep=\"\\t\", row.names=FALSE, quote=FALSE)\n",
        "\n",
        "# Save pathway maps for the top 5 downregulated pathways with increased dimensions\n",
        "for (pathway in keggresids_down) {\n",
        "  pathview(gene.data = foldchanges,\n",
        "           pathway.id = pathway,\n",
        "           species = \"hsa\",\n",
        "           kegg.native = TRUE,\n",
        "           out.suffix = \"downregulated\",\n",
        "           high.res = TRUE)  # Enable high-resolution output\n",
        "}\n"
      ],
      "metadata": {
        "colab": {
          "base_uri": "https://localhost:8080/"
        },
        "id": "KAA3WH_lYPwS",
        "outputId": "ecc40f04-e538-4227-df83-ade3e2da7c73"
      },
      "execution_count": null,
      "outputs": [
        {
          "output_type": "stream",
          "name": "stderr",
          "text": [
            "'select()' returned 1:1 mapping between keys and columns\n",
            "\n",
            "Info: Working in directory /content\n",
            "\n",
            "Info: Writing image file hsa04062.upregulated.png\n",
            "\n",
            "'select()' returned 1:1 mapping between keys and columns\n",
            "\n",
            "Info: Working in directory /content\n",
            "\n",
            "Info: Writing image file hsa04640.upregulated.png\n",
            "\n",
            "'select()' returned 1:1 mapping between keys and columns\n",
            "\n",
            "Info: Working in directory /content\n",
            "\n",
            "Info: Writing image file hsa04672.upregulated.png\n",
            "\n",
            "'select()' returned 1:1 mapping between keys and columns\n",
            "\n",
            "Info: Working in directory /content\n",
            "\n",
            "Info: Writing image file hsa04650.upregulated.png\n",
            "\n",
            "'select()' returned 1:1 mapping between keys and columns\n",
            "\n",
            "Info: Working in directory /content\n",
            "\n",
            "Info: Writing image file hsa04612.upregulated.png\n",
            "\n",
            "'select()' returned 1:1 mapping between keys and columns\n",
            "\n",
            "Info: Working in directory /content\n",
            "\n",
            "Info: Writing image file hsa04530.downregulated.png\n",
            "\n",
            "'select()' returned 1:1 mapping between keys and columns\n",
            "\n",
            "Info: Working in directory /content\n",
            "\n",
            "Info: Writing image file hsa04920.downregulated.png\n",
            "\n",
            "'select()' returned 1:1 mapping between keys and columns\n",
            "\n",
            "Info: Working in directory /content\n",
            "\n",
            "Info: Writing image file hsa04710.downregulated.png\n",
            "\n",
            "'select()' returned 1:1 mapping between keys and columns\n",
            "\n",
            "Info: Working in directory /content\n",
            "\n",
            "Info: Writing image file hsa04742.downregulated.png\n",
            "\n",
            "'select()' returned 1:1 mapping between keys and columns\n",
            "\n",
            "Info: Working in directory /content\n",
            "\n",
            "Info: Writing image file hsa04976.downregulated.png\n",
            "\n"
          ]
        }
      ]
    },
    {
      "cell_type": "code",
      "source": [
        "# Visualize one upregulated pathway\n",
        "pathview(gene.data=foldchanges, pathway.id=\"hsa04710\")\n",
        "\n",
        "# Visualize one downregulated pathway\n",
        "pathview(gene.data=foldchanges, pathway.id=\"hsa04713\")\n",
        "\n",
        "# Obtain a PDF-based output of pathway visualization\n",
        "pathview(gene.data=foldchanges, pathway.id=\"hsa04514\", kegg.native=FALSE)"
      ],
      "metadata": {
        "colab": {
          "base_uri": "https://localhost:8080/"
        },
        "id": "b3dzCDqx9eHR",
        "outputId": "c8f3d5ec-25a7-425e-e85b-e9e0ce102ab1"
      },
      "execution_count": null,
      "outputs": [
        {
          "output_type": "stream",
          "name": "stderr",
          "text": [
            "Info: Downloading xml files for hsa04710, 1/1 pathways..\n",
            "\n",
            "Info: Downloading png files for hsa04710, 1/1 pathways..\n",
            "\n",
            "Warning: None of the genes or compounds mapped to the pathway!\n",
            "Argument gene.idtype or cpd.idtype may be wrong.\n",
            "\n",
            "'select()' returned 1:1 mapping between keys and columns\n",
            "\n",
            "Info: Working in directory /content\n",
            "\n",
            "Info: Writing image file hsa04710.pathview.png\n",
            "\n",
            "Info: Downloading xml files for hsa04713, 1/1 pathways..\n",
            "\n",
            "Info: Downloading png files for hsa04713, 1/1 pathways..\n",
            "\n",
            "Warning: None of the genes or compounds mapped to the pathway!\n",
            "Argument gene.idtype or cpd.idtype may be wrong.\n",
            "\n",
            "'select()' returned 1:1 mapping between keys and columns\n",
            "\n",
            "Info: Working in directory /content\n",
            "\n",
            "Info: Writing image file hsa04713.pathview.png\n",
            "\n",
            "Info: Downloading xml files for hsa04514, 1/1 pathways..\n",
            "\n",
            "'select()' returned 1:1 mapping between keys and columns\n",
            "\n",
            "Info: Working in directory /content\n",
            "\n",
            "Info: Writing image file hsa04514.pathview.pdf\n",
            "\n"
          ]
        }
      ]
    },
    {
      "cell_type": "code",
      "source": [
        "# Load necessary library\n",
        "library(pathview)\n",
        "\n",
        "# List of pathway IDs\n",
        "pathway_ids <- c(\"hsa04062\", \"hsa00140\", \"hsa00830\", \"hsa00100\", \"hsa04620\", \"hsa04380\")\n",
        "\n",
        "# Iterate through each pathway ID and create high-resolution PNG plots\n",
        "for (pathway in pathway_ids) {\n",
        "  pathview(gene.data = foldchanges,\n",
        "           pathway.id = pathway,\n",
        "           species = \"hsa\",\n",
        "           kegg.native = TRUE,  # Use native KEGG pathway view\n",
        "           out.suffix = pathway,  # Suffix for output files\n",
        "           high.res = TRUE)  # Enable high-resolution output\n",
        "}\n",
        "\n",
        "\n"
      ],
      "metadata": {
        "colab": {
          "base_uri": "https://localhost:8080/"
        },
        "id": "GNZNjrycbJyT",
        "outputId": "dcb0680d-e3be-4700-8b00-80de12f926f7"
      },
      "execution_count": null,
      "outputs": [
        {
          "output_type": "stream",
          "name": "stderr",
          "text": [
            "'select()' returned 1:1 mapping between keys and columns\n",
            "\n",
            "Info: Working in directory /content\n",
            "\n",
            "Info: Writing image file hsa04062.hsa04062.png\n",
            "\n",
            "Info: Downloading xml files for hsa00140, 1/1 pathways..\n",
            "\n",
            "Info: Downloading png files for hsa00140, 1/1 pathways..\n",
            "\n",
            "'select()' returned 1:1 mapping between keys and columns\n",
            "\n",
            "Info: Working in directory /content\n",
            "\n",
            "Info: Writing image file hsa00140.hsa00140.png\n",
            "\n",
            "Info: Downloading xml files for hsa00830, 1/1 pathways..\n",
            "\n",
            "Info: Downloading png files for hsa00830, 1/1 pathways..\n",
            "\n",
            "'select()' returned 1:1 mapping between keys and columns\n",
            "\n",
            "Info: Working in directory /content\n",
            "\n",
            "Info: Writing image file hsa00830.hsa00830.png\n",
            "\n",
            "Info: Downloading xml files for hsa00100, 1/1 pathways..\n",
            "\n",
            "Info: Downloading png files for hsa00100, 1/1 pathways..\n",
            "\n",
            "'select()' returned 1:1 mapping between keys and columns\n",
            "\n",
            "Info: Working in directory /content\n",
            "\n",
            "Info: Writing image file hsa00100.hsa00100.png\n",
            "\n",
            "Info: Downloading xml files for hsa04620, 1/1 pathways..\n",
            "\n",
            "Info: Downloading png files for hsa04620, 1/1 pathways..\n",
            "\n",
            "'select()' returned 1:1 mapping between keys and columns\n",
            "\n",
            "Info: Working in directory /content\n",
            "\n",
            "Info: Writing image file hsa04620.hsa04620.png\n",
            "\n",
            "'select()' returned 1:1 mapping between keys and columns\n",
            "\n",
            "Info: Working in directory /content\n",
            "\n",
            "Info: Writing image file hsa04380.hsa04380.png\n",
            "\n"
          ]
        }
      ]
    },
    {
      "cell_type": "code",
      "source": [
        "# Optionally, save one pathway as a PDF for better scalability\n",
        "pathview(gene.data = foldchanges,\n",
        "         pathway.id = \"hsa04514\",\n",
        "         species = \"hsa\",\n",
        "         kegg.native = FALSE,  # Use graphical output (non-native)\n",
        "         out.suffix = \"hsa04514_pdf\")"
      ],
      "metadata": {
        "id": "06pgDoN7bKbh"
      },
      "execution_count": null,
      "outputs": []
    }
  ],
  "metadata": {
    "colab": {
      "provenance": []
    },
    "kernelspec": {
      "display_name": "R",
      "name": "ir"
    },
    "language_info": {
      "name": "R"
    }
  },
  "nbformat": 4,
  "nbformat_minor": 0
}